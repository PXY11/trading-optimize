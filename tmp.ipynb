{
 "cells": [
  {
   "cell_type": "markdown",
   "metadata": {},
   "source": [
    "# snapshot data explore"
   ]
  },
  {
   "cell_type": "code",
   "execution_count": null,
   "metadata": {},
   "outputs": [],
   "source": [
    "import pandas as pd\n",
    "import os\n",
    "\n",
    "stk_code = '603355'\n",
    "exchange = 'sh_exchange'\n",
    "folder_path = f'/Users/bokie/code/python/CMS/TWAP优化/trading-optimize/stock_data/{exchange}/{stk_code}'\n",
    "\n",
    "files_pkl = os.listdir(folder_path)\n",
    "files_pkl.remove('.DS_Store')\n",
    "files_pkl\n",
    "stk_dic = {}\n",
    "for file in files_pkl:\n",
    "    tmp_path = folder_path + '/' + file\n",
    "    df_tmp = pd.read_pickle(tmp_path)\n",
    "    tmp_key = file[7:15]\n",
    "    stk_dic[tmp_key] = df_tmp"
   ]
  },
  {
   "cell_type": "code",
   "execution_count": 41,
   "metadata": {},
   "outputs": [
    {
     "data": {
      "text/plain": [
       "dict_keys(['20220812', '20220609', '20220621', '20220620', '20220608', '20220805', '20220811', '20220622', '20220623', '20220810', '20220804', '20220627', '20220815', '20220801', '20220829', '20220817', '20220803', '20220630', '20220624', '20220802', '20220816', '20220905', '20220722', '20220906', '20220721', '20220720', '20220708', '20220907', '20220913', '20220718', '20220719', '20220725', '20220902', '20220916', '20220914', '20220727', '20220726', '20220915', '20220901', '20220919', '20220728', '20220714', '20220701', '20220715', '20220729', '20220922', '20220711', '20220705', '20220704', '20220923', '20220909', '20220921', '20220706', '20220712', '20220713', '20220707', '20220920', '20220908', '20220628', '20220614', '20220601', '20220615', '20220629', '20220826', '20220824', '20220830', '20220818', '20220617', '20220616', '20220602', '20220819', '20220831', '20220825', '20220809', '20220606', '20220613', '20220607', '20220808', '20220822', '20220610', '20220823'])"
      ]
     },
     "execution_count": 41,
     "metadata": {},
     "output_type": "execute_result"
    }
   ],
   "source": [
    "stk_dic.keys()"
   ]
  },
  {
   "cell_type": "code",
   "execution_count": 42,
   "metadata": {},
   "outputs": [
    {
     "data": {
      "text/html": [
       "<div>\n",
       "<style scoped>\n",
       "    .dataframe tbody tr th:only-of-type {\n",
       "        vertical-align: middle;\n",
       "    }\n",
       "\n",
       "    .dataframe tbody tr th {\n",
       "        vertical-align: top;\n",
       "    }\n",
       "\n",
       "    .dataframe thead th {\n",
       "        text-align: right;\n",
       "    }\n",
       "</style>\n",
       "<table border=\"1\" class=\"dataframe\">\n",
       "  <thead>\n",
       "    <tr style=\"text-align: right;\">\n",
       "      <th></th>\n",
       "      <th>auto_id</th>\n",
       "      <th>task_id</th>\n",
       "      <th>file_id</th>\n",
       "      <th>security_id</th>\n",
       "      <th>date_time</th>\n",
       "      <th>pre_close_px</th>\n",
       "      <th>open_px</th>\n",
       "      <th>high_px</th>\n",
       "      <th>low_px</th>\n",
       "      <th>last_px</th>\n",
       "      <th>...</th>\n",
       "      <th>etf_sell_number</th>\n",
       "      <th>etf_sell_amount</th>\n",
       "      <th>etf_sell_money</th>\n",
       "      <th>avg_px</th>\n",
       "      <th>close_px</th>\n",
       "      <th>msg_seq_num</th>\n",
       "      <th>sending_time</th>\n",
       "      <th>war_lower_px</th>\n",
       "      <th>trading_phase_code</th>\n",
       "      <th>num_image_status</th>\n",
       "    </tr>\n",
       "  </thead>\n",
       "  <tbody>\n",
       "    <tr>\n",
       "      <th>0</th>\n",
       "      <td>48445633958</td>\n",
       "      <td>1009658</td>\n",
       "      <td>1007006</td>\n",
       "      <td>603355</td>\n",
       "      <td>20220812091530</td>\n",
       "      <td>33.89</td>\n",
       "      <td>0.0</td>\n",
       "      <td>0.0</td>\n",
       "      <td>0.0</td>\n",
       "      <td>0.0</td>\n",
       "      <td>...</td>\n",
       "      <td>0</td>\n",
       "      <td>0</td>\n",
       "      <td>0.0</td>\n",
       "      <td>0.0</td>\n",
       "      <td>0.0</td>\n",
       "      <td>12819</td>\n",
       "      <td>20220812091530</td>\n",
       "      <td>0.0</td>\n",
       "      <td>C111</td>\n",
       "      <td>1</td>\n",
       "    </tr>\n",
       "    <tr>\n",
       "      <th>1</th>\n",
       "      <td>48445646300</td>\n",
       "      <td>1009658</td>\n",
       "      <td>1007006</td>\n",
       "      <td>603355</td>\n",
       "      <td>20220812091545</td>\n",
       "      <td>33.89</td>\n",
       "      <td>0.0</td>\n",
       "      <td>0.0</td>\n",
       "      <td>0.0</td>\n",
       "      <td>0.0</td>\n",
       "      <td>...</td>\n",
       "      <td>0</td>\n",
       "      <td>0</td>\n",
       "      <td>0.0</td>\n",
       "      <td>0.0</td>\n",
       "      <td>0.0</td>\n",
       "      <td>13081</td>\n",
       "      <td>20220812091545</td>\n",
       "      <td>0.0</td>\n",
       "      <td>C111</td>\n",
       "      <td>1</td>\n",
       "    </tr>\n",
       "    <tr>\n",
       "      <th>2</th>\n",
       "      <td>48446682944</td>\n",
       "      <td>1009658</td>\n",
       "      <td>1007006</td>\n",
       "      <td>603355</td>\n",
       "      <td>20220812091657</td>\n",
       "      <td>33.89</td>\n",
       "      <td>0.0</td>\n",
       "      <td>0.0</td>\n",
       "      <td>0.0</td>\n",
       "      <td>0.0</td>\n",
       "      <td>...</td>\n",
       "      <td>0</td>\n",
       "      <td>0</td>\n",
       "      <td>0.0</td>\n",
       "      <td>0.0</td>\n",
       "      <td>0.0</td>\n",
       "      <td>15028</td>\n",
       "      <td>20220812091657</td>\n",
       "      <td>0.0</td>\n",
       "      <td>C111</td>\n",
       "      <td>1</td>\n",
       "    </tr>\n",
       "    <tr>\n",
       "      <th>3</th>\n",
       "      <td>48445940813</td>\n",
       "      <td>1009658</td>\n",
       "      <td>1007006</td>\n",
       "      <td>603355</td>\n",
       "      <td>20220812091739</td>\n",
       "      <td>33.89</td>\n",
       "      <td>0.0</td>\n",
       "      <td>0.0</td>\n",
       "      <td>0.0</td>\n",
       "      <td>0.0</td>\n",
       "      <td>...</td>\n",
       "      <td>0</td>\n",
       "      <td>0</td>\n",
       "      <td>0.0</td>\n",
       "      <td>0.0</td>\n",
       "      <td>0.0</td>\n",
       "      <td>16489</td>\n",
       "      <td>20220812091739</td>\n",
       "      <td>0.0</td>\n",
       "      <td>C111</td>\n",
       "      <td>1</td>\n",
       "    </tr>\n",
       "    <tr>\n",
       "      <th>4</th>\n",
       "      <td>48446019442</td>\n",
       "      <td>1009658</td>\n",
       "      <td>1007006</td>\n",
       "      <td>603355</td>\n",
       "      <td>20220812091803</td>\n",
       "      <td>33.89</td>\n",
       "      <td>0.0</td>\n",
       "      <td>0.0</td>\n",
       "      <td>0.0</td>\n",
       "      <td>0.0</td>\n",
       "      <td>...</td>\n",
       "      <td>0</td>\n",
       "      <td>0</td>\n",
       "      <td>0.0</td>\n",
       "      <td>0.0</td>\n",
       "      <td>0.0</td>\n",
       "      <td>17262</td>\n",
       "      <td>20220812091803</td>\n",
       "      <td>0.0</td>\n",
       "      <td>C111</td>\n",
       "      <td>1</td>\n",
       "    </tr>\n",
       "  </tbody>\n",
       "</table>\n",
       "<p>5 rows × 204 columns</p>\n",
       "</div>"
      ],
      "text/plain": [
       "       auto_id  task_id  file_id security_id       date_time  pre_close_px  \\\n",
       "0  48445633958  1009658  1007006      603355  20220812091530         33.89   \n",
       "1  48445646300  1009658  1007006      603355  20220812091545         33.89   \n",
       "2  48446682944  1009658  1007006      603355  20220812091657         33.89   \n",
       "3  48445940813  1009658  1007006      603355  20220812091739         33.89   \n",
       "4  48446019442  1009658  1007006      603355  20220812091803         33.89   \n",
       "\n",
       "   open_px  high_px  low_px  last_px  ...  etf_sell_number  etf_sell_amount  \\\n",
       "0      0.0      0.0     0.0      0.0  ...                0                0   \n",
       "1      0.0      0.0     0.0      0.0  ...                0                0   \n",
       "2      0.0      0.0     0.0      0.0  ...                0                0   \n",
       "3      0.0      0.0     0.0      0.0  ...                0                0   \n",
       "4      0.0      0.0     0.0      0.0  ...                0                0   \n",
       "\n",
       "  etf_sell_money  avg_px  close_px  msg_seq_num    sending_time  war_lower_px  \\\n",
       "0            0.0     0.0       0.0        12819  20220812091530           0.0   \n",
       "1            0.0     0.0       0.0        13081  20220812091545           0.0   \n",
       "2            0.0     0.0       0.0        15028  20220812091657           0.0   \n",
       "3            0.0     0.0       0.0        16489  20220812091739           0.0   \n",
       "4            0.0     0.0       0.0        17262  20220812091803           0.0   \n",
       "\n",
       "   trading_phase_code  num_image_status  \n",
       "0                C111                 1  \n",
       "1                C111                 1  \n",
       "2                C111                 1  \n",
       "3                C111                 1  \n",
       "4                C111                 1  \n",
       "\n",
       "[5 rows x 204 columns]"
      ]
     },
     "execution_count": 42,
     "metadata": {},
     "output_type": "execute_result"
    },
    {
     "name": "stdout",
     "output_type": "stream",
     "text": [
      "Connect to Sky fail. errCode:60\n",
      "Connect to Sky fail. errCode:60\n",
      "Connect to Sky fail. errCode:51\n",
      "Connect to Sky fail. errCode:51\n",
      "Connect to Sky fail. errCode:51\n",
      "Connect to Sky fail. errCode:51\n",
      "Connect to Sky fail. errCode:51\n",
      "Connect to Sky fail. errCode:51\n",
      "Connect to Sky fail. errCode:51\n",
      "Connect to Sky fail. errCode:51\n",
      "Connect to Sky fail. errCode:51\n",
      "Connect to Sky fail. errCode:51\n",
      "Connect to Sky fail. errCode:51\n",
      "Connect to Sky fail. errCode:51\n",
      "Connect to Sky fail. errCode:51\n",
      "Connect to Sky fail. errCode:51\n",
      "Connect to Sky fail. errCode:51\n",
      "Connect to Sky fail. errCode:51\n",
      "Connect to Sky fail. errCode:51\n",
      "Connect to Sky fail. errCode:51\n",
      "Connect to Sky fail. errCode:51\n",
      "Connect to Sky fail. errCode:51\n",
      "Connect to Sky fail. errCode:51\n",
      "Connect to Sky fail. errCode:51\n",
      "Connect to Sky fail. errCode:51\n",
      "Connect to Sky fail. errCode:51\n",
      "Connect to Sky fail. errCode:51\n",
      "Connect to Sky fail. errCode:51\n",
      "Connect to Sky fail. errCode:51\n",
      "Connect to Sky fail. errCode:51\n",
      "Connect to Sky fail. errCode:51\n",
      "Connect to Sky fail. errCode:51\n",
      "Connect to Sky fail. errCode:51\n",
      "Connect to Sky fail. errCode:51\n",
      "Connect to Sky fail. errCode:51\n",
      "Connect to Sky fail. errCode:51\n",
      "Connect to Sky fail. errCode:51\n",
      "Connect to Sky fail. errCode:51\n",
      "Connect to Sky fail. errCode:51\n",
      "Connect to Sky fail. errCode:51\n",
      "Connect to Sky fail. errCode:51\n",
      "Connect to Sky fail. errCode:51\n",
      "Connect to Sky fail. errCode:51\n",
      "Connect to Sky fail. errCode:51\n",
      "Connect to Sky fail. errCode:51\n",
      "Connect to Sky fail. errCode:51\n",
      "Connect to Sky fail. errCode:51\n",
      "Connect to Sky fail. errCode:51\n",
      "Connect to Sky fail. errCode:51\n",
      "Connect to Sky fail. errCode:51\n",
      "Connect to Sky fail. errCode:51\n",
      "Connect to Sky fail. errCode:51\n",
      "Connect to Sky fail. errCode:51\n",
      "Connect to Sky fail. errCode:51\n",
      "Connect to Sky fail. errCode:51\n",
      "Connect to Sky fail. errCode:51\n",
      "Connect to Sky fail. errCode:51\n",
      "Connect to Sky fail. errCode:51\n",
      "Connect to Sky fail. errCode:51\n",
      "Connect to Sky fail. errCode:51\n",
      "Connect to Sky fail. errCode:51\n",
      "Connect to Sky fail. errCode:51\n",
      "Connect to Sky fail. errCode:51\n",
      "Connect to Sky fail. errCode:51\n",
      "Connect to Sky fail. errCode:51\n",
      "Connect to Sky fail. errCode:51\n",
      "Connect to Sky fail. errCode:51\n",
      "Connect to Sky fail. errCode:51\n",
      "Connect to Sky fail. errCode:51\n",
      "Connect to Sky fail. errCode:51\n",
      "Connect to Sky fail. errCode:51\n",
      "Connect to Sky fail. errCode:51\n",
      "Connect to Sky fail. errCode:51\n",
      "Connect to Sky fail. errCode:51\n",
      "Connect to Sky fail. errCode:51\n",
      "Connect to Sky fail. errCode:51\n",
      "Connect to Sky fail. errCode:51\n",
      "Connect to Sky fail. errCode:51\n",
      "Connect to Sky fail. errCode:51\n",
      "Connect to Sky fail. errCode:51\n",
      "Connect to Sky fail. errCode:51\n",
      "Connect to Sky fail. errCode:51\n",
      "Connect to Sky fail. errCode:51\n",
      "Connect to Sky fail. errCode:51\n",
      "Connect to Sky fail. errCode:51\n",
      "Connect to Sky fail. errCode:51\n",
      "Connect to Sky fail. errCode:51\n",
      "Connect to Sky fail. errCode:51\n",
      "Connect to Sky fail. errCode:51\n",
      "Connect to Sky fail. errCode:51\n",
      "Connect to Sky fail. errCode:51\n",
      "Connect to Sky fail. errCode:51\n",
      "Connect to Sky fail. errCode:51\n",
      "Connect to Sky fail. errCode:51\n",
      "Connect to Sky fail. errCode:51\n",
      "Connect to Sky fail. errCode:51\n",
      "Connect to Sky fail. errCode:51\n",
      "Connect to Sky fail. errCode:51\n",
      "Connect to Sky fail. errCode:51\n",
      "Connect to Sky fail. errCode:51\n",
      "Connect to Sky fail. errCode:51\n",
      "Connect to Sky fail. errCode:51\n",
      "Connect to Sky fail. errCode:51\n",
      "Connect to Sky fail. errCode:51\n",
      "Connect to Sky fail. errCode:51\n",
      "Connect to Sky fail. errCode:51\n",
      "Connect to Sky fail. errCode:51\n",
      "Connect to Sky fail. errCode:51\n",
      "Connect to Sky fail. errCode:51\n",
      "Connect to Sky fail. errCode:51\n",
      "Connect to Sky fail. errCode:51\n",
      "Connect to Sky fail. errCode:51\n",
      "Connect to Sky fail. errCode:51\n",
      "Connect to Sky fail. errCode:51\n",
      "Connect to Sky fail. errCode:51\n",
      "Connect to Sky fail. errCode:51\n",
      "Connect to Sky fail. errCode:51\n",
      "Connect to Sky fail. errCode:51\n",
      "Connect to Sky fail. errCode:51\n",
      "Connect to Sky fail. errCode:51\n",
      "Connect to Sky fail. errCode:51\n",
      "Connect to Sky fail. errCode:51\n",
      "Connect to Sky fail. errCode:51\n",
      "Connect to Sky fail. errCode:51\n",
      "Connect to Sky fail. errCode:51\n",
      "Connect to Sky fail. errCode:51\n",
      "Connect to Sky fail. errCode:51\n",
      "Connect to Sky fail. errCode:51\n",
      "Connect to Sky fail. errCode:51\n",
      "Connect to Sky fail. errCode:51\n",
      "Connect to Sky fail. errCode:51\n",
      "Connect to Sky fail. errCode:51\n",
      "Connect to Sky fail. errCode:51\n",
      "Connect to Sky fail. errCode:51\n",
      "Connect to Sky fail. errCode:51\n",
      "Connect to Sky fail. errCode:51\n",
      "Connect to Sky fail. errCode:51\n",
      "Connect to Sky fail. errCode:51\n",
      "Connect to Sky fail. errCode:51\n",
      "Connect to Sky fail. errCode:51\n",
      "Connect to Sky fail. errCode:51\n",
      "Connect to Sky fail. errCode:51\n",
      "Connect to Sky fail. errCode:51\n",
      "Connect to Sky fail. errCode:51\n",
      "Connect to Sky fail. errCode:51\n",
      "Connect to Sky fail. errCode:51\n",
      "Connect to Sky fail. errCode:51\n",
      "Connect to Sky fail. errCode:51\n",
      "Connect to Sky fail. errCode:51\n",
      "Connect to Sky fail. errCode:51\n",
      "Connect to Sky fail. errCode:51\n",
      "Connect to Sky fail. errCode:51\n",
      "Connect to Sky fail. errCode:51\n",
      "Connect to Sky fail. errCode:51\n",
      "Connect to Sky fail. errCode:51\n",
      "Connect to Sky fail. errCode:51\n",
      "Connect to Sky fail. errCode:51\n",
      "Connect to Sky fail. errCode:51\n",
      "Connect to Sky fail. errCode:51\n",
      "Connect to Sky fail. errCode:51\n",
      "Connect to Sky fail. errCode:51\n",
      "Connect to Sky fail. errCode:51\n",
      "Connect to Sky fail. errCode:51\n",
      "Connect to Sky fail. errCode:51\n",
      "Connect to Sky fail. errCode:51\n",
      "Connect to Sky fail. errCode:51\n",
      "Connect to Sky fail. errCode:51\n",
      "Connect to Sky fail. errCode:51\n",
      "Connect to Sky fail. errCode:51\n",
      "Connect to Sky fail. errCode:51\n",
      "Connect to Sky fail. errCode:51\n",
      "Connect to Sky fail. errCode:51\n",
      "Connect to Sky fail. errCode:51\n",
      "Connect to Sky fail. errCode:51\n",
      "Connect to Sky fail. errCode:51\n",
      "Connect to Sky fail. errCode:51\n",
      "Connect to Sky fail. errCode:51\n",
      "Connect to Sky fail. errCode:51\n",
      "Connect to Sky fail. errCode:51\n",
      "Connect to Sky fail. errCode:51\n",
      "Connect to Sky fail. errCode:51\n",
      "Connect to Sky fail. errCode:51\n",
      "Connect to Sky fail. errCode:51\n",
      "Connect to Sky fail. errCode:51\n",
      "Connect to Sky fail. errCode:51\n",
      "Connect to Sky fail. errCode:51\n",
      "Connect to Sky fail. errCode:51\n",
      "Connect to Sky fail. errCode:51\n",
      "Connect to Sky fail. errCode:51\n",
      "Connect to Sky fail. errCode:51\n",
      "Connect to Sky fail. errCode:51\n",
      "Connect to Sky fail. errCode:51\n",
      "Connect to Sky fail. errCode:51\n",
      "Connect to Sky fail. errCode:51\n",
      "Connect to Sky fail. errCode:51\n",
      "Connect to Sky fail. errCode:51\n",
      "Connect to Sky fail. errCode:51\n",
      "Connect to Sky fail. errCode:51\n",
      "Connect to Sky fail. errCode:51\n",
      "Connect to Sky fail. errCode:51\n",
      "Connect to Sky fail. errCode:51\n",
      "Connect to Sky fail. errCode:51\n",
      "Connect to Sky fail. errCode:51\n",
      "Connect to Sky fail. errCode:51\n",
      "Connect to Sky fail. errCode:51\n",
      "Connect to Sky fail. errCode:51\n",
      "Connect to Sky fail. errCode:51\n",
      "Connect to Sky fail. errCode:51\n",
      "Connect to Sky fail. errCode:51\n",
      "Connect to Sky fail. errCode:51\n",
      "Connect to Sky fail. errCode:51\n",
      "Connect to Sky fail. errCode:51\n",
      "Connect to Sky fail. errCode:51\n",
      "Connect to Sky fail. errCode:51\n",
      "Connect to Sky fail. errCode:51\n",
      "Connect to Sky fail. errCode:51\n",
      "Connect to Sky fail. errCode:51\n",
      "Connect to Sky fail. errCode:51\n",
      "Connect to Sky fail. errCode:51\n",
      "Connect to Sky fail. errCode:51\n",
      "Connect to Sky fail. errCode:51\n",
      "Connect to Sky fail. errCode:51\n",
      "Connect to Sky fail. errCode:51\n",
      "Connect to Sky fail. errCode:51\n",
      "Connect to Sky fail. errCode:51\n",
      "Connect to Sky fail. errCode:51\n",
      "Connect to Sky fail. errCode:51\n",
      "Connect to Sky fail. errCode:51\n",
      "Connect to Sky fail. errCode:51\n",
      "Connect to Sky fail. errCode:51\n",
      "Connect to Sky fail. errCode:51\n",
      "Connect to Sky fail. errCode:51\n",
      "Connect to Sky fail. errCode:51\n",
      "Connect to Sky fail. errCode:51\n",
      "Connect to Sky fail. errCode:51\n",
      "Connect to Sky fail. errCode:51\n",
      "Connect to Sky fail. errCode:51\n",
      "Connect to Sky fail. errCode:51\n",
      "Connect to Sky fail. errCode:51\n",
      "Connect to Sky fail. errCode:51\n"
     ]
    }
   ],
   "source": [
    "stk_dic['20220812'].head()"
   ]
  },
  {
   "cell_type": "code",
   "execution_count": null,
   "metadata": {},
   "outputs": [],
   "source": [
    "pd.set_option('display.max_rows', None)\n",
    "stk_dic['20220812']['index_col'] = stk_dic['20220812']['date_time']\n",
    "stk_dic['20220812'].set_index('index_col').iloc[:,113:114]"
   ]
  },
  {
   "cell_type": "markdown",
   "metadata": {},
   "source": [
    "# correlation explore"
   ]
  },
  {
   "cell_type": "code",
   "execution_count": null,
   "metadata": {},
   "outputs": [],
   "source": [
    "from WindPy import *\n",
    "\n",
    "#Wind API 使用W账户密码登录\n",
    "w.start() \n",
    "\n",
    "#return True and then can go to next operation.\n",
    "w.isconnected()\n",
    "\n",
    "import pandas as pd\n",
    "df_return = w.wsi(\"000333.SZ,000521.SZ,000533.SZ,000541.SZ,000651.SZ,000921.SZ,001259.SZ,002032.SZ,002035.SZ,002076.SZ,002242.SZ,002290.SZ,002418.SZ,002508.SZ,002543.SZ,002668.SZ,002676.SZ,002677.SZ,002705.SZ,002723.SZ,002959.SZ,003023.SZ,200512.SZ,200521.SZ,200541.SZ,300160.SZ,300217.SZ,300247.SZ,300272.SZ,300403.SZ,300625.SZ,300650.SZ,300824.SZ,300889.SZ,300894.SZ,300911.SZ,600261.SH,600336.SH,600651.SH,600690.SH,600854.SH,600983.SH,603215.SH,603219.SH,603303.SH,603311.SH,603355.SH,603366.SH,603486.SH,603515.SH,603519.SH,603578.SH,603657.SH,603677.SH,603685.SH,603868.SH,605117.SH,605336.SH,605365.SH,605555.SH,688169.SH\", \"pct_chg\", \"2022-06-01 09:00:00\", \"2022-10-10 11:29:35\", \"\",usedf=True)[1]"
   ]
  },
  {
   "cell_type": "code",
   "execution_count": null,
   "metadata": {},
   "outputs": [],
   "source": [
    "stk_code = list(set(df_return['WINDCODE'].tolist()))"
   ]
  },
  {
   "cell_type": "code",
   "execution_count": null,
   "metadata": {},
   "outputs": [],
   "source": [
    "df_return_rearrange = pd.DataFrame([])\n",
    "for stk_code_tmp in stk_code:\n",
    "    df_tmp = df_return[df_return['WINDCODE']==stk_code_tmp]['PCTCHANGE']\n",
    "    df_tmp.columns = [stk_code_tmp]\n",
    "    df_return_rearrange[stk_code_tmp] = df_tmp"
   ]
  },
  {
   "cell_type": "code",
   "execution_count": null,
   "metadata": {},
   "outputs": [],
   "source": [
    "df_return_rearrange[['603355.SH','000521.SZ']].index"
   ]
  },
  {
   "cell_type": "code",
   "execution_count": null,
   "metadata": {},
   "outputs": [],
   "source": [
    "df_return_rearrange[['603355.SH','000521.SZ']].iloc[:242,:]"
   ]
  },
  {
   "cell_type": "code",
   "execution_count": null,
   "metadata": {},
   "outputs": [],
   "source": [
    "tmp_index = df_return_rearrange[['603355.SH','000521.SZ']].resample('D').last().index.tolist()\n",
    "\n",
    "df_return_rearrange[['603355.SH','000521.SZ']].loc[str(tmp_index[1]).split(' ')[0]].corr()"
   ]
  },
  {
   "cell_type": "code",
   "execution_count": null,
   "metadata": {},
   "outputs": [],
   "source": [
    "df_corr = pd.DataFrame([],columns=['corr'])\n",
    "for tmp_index_day in tmp_index:\n",
    "    tmp_corr = df_return_rearrange[['603355.SH','000521.SZ']].loc[str(tmp_index_day).split(' ')[0]].corr().iloc[1,0]\n",
    "    df_corr.loc[tmp_index_day] = tmp_corr\n",
    "df_corr"
   ]
  },
  {
   "cell_type": "code",
   "execution_count": null,
   "metadata": {},
   "outputs": [],
   "source": [
    "df_corr.plot()"
   ]
  },
  {
   "cell_type": "code",
   "execution_count": null,
   "metadata": {},
   "outputs": [],
   "source": [
    "w.wsd(\"603355.SH\", \"close\", \"2022-06-01\", \"2022-10-10\", \"\",usedf=True)[1].plot()"
   ]
  },
  {
   "cell_type": "code",
   "execution_count": null,
   "metadata": {},
   "outputs": [],
   "source": [
    "tmp_index = w.wsd(\"603355.SH\", \"close\", \"2022-06-01\", \"2022-10-10\", \"\",usedf=True)[1].index\n",
    "tmp_index"
   ]
  },
  {
   "cell_type": "code",
   "execution_count": null,
   "metadata": {},
   "outputs": [],
   "source": [
    "# from datetime import datetime\n",
    "# str(tmp_index[1]).split(' ')[0]"
   ]
  },
  {
   "cell_type": "code",
   "execution_count": null,
   "metadata": {},
   "outputs": [],
   "source": [
    "# df_corr = df_return_rearrange[['603355.SH','000521.SZ']].rolling(window=242).corr()[['603355.SH']]\n",
    "# df_corr[df_corr!=1]"
   ]
  },
  {
   "cell_type": "code",
   "execution_count": null,
   "metadata": {},
   "outputs": [],
   "source": [
    "# pd.set_option('display.max_rows', None)\n",
    "# df_return_rearrange.corr()['603355.SH']"
   ]
  },
  {
   "cell_type": "code",
   "execution_count": 12,
   "metadata": {},
   "outputs": [],
   "source": [
    "from WindPy import *\n",
    "\n",
    "#Wind API 使用W账户密码登录\n",
    "w.start() \n",
    "\n",
    "#return True and then can go to next operation.\n",
    "w.isconnected()\n",
    "\n",
    "import pandas as pd\n",
    "import plotly.graph_objects as go\n",
    "start_date = '2022-06-01'\n",
    "df_daily = w.wsd(\"603355.SH\", \"close\", f\"{start_date}\", \"2022-10-10\", \"\",usedf=True)[1]\n",
    "# df_return = w.wsi(f\"000333.SZ,000521.SZ,000533.SZ,000541.SZ,000651.SZ,000921.SZ,001259.SZ,002032.SZ,002035.SZ,002076.SZ,002242.SZ,002290.SZ,002418.SZ,002508.SZ,002543.SZ,002668.SZ,002676.SZ,002677.SZ,002705.SZ,002723.SZ,002959.SZ,003023.SZ,200512.SZ,200521.SZ,200541.SZ,300160.SZ,300217.SZ,300247.SZ,300272.SZ,300403.SZ,300625.SZ,300650.SZ,300824.SZ,300889.SZ,300894.SZ,300911.SZ,600261.SH,600336.SH,600651.SH,600690.SH,600854.SH,600983.SH,603215.SH,603219.SH,603303.SH,603311.SH,603355.SH,603366.SH,603486.SH,603515.SH,603519.SH,603578.SH,603657.SH,603677.SH,603685.SH,603868.SH,605117.SH,605336.SH,605365.SH,605555.SH,688169.SH\", \"pct_chg\", \"{start_date} 09:00:00\", \"2022-10-10 11:29:35\", \"\",usedf=True)[1]\n",
    "df_return = w.wsi(\"000333.SZ,000521.SZ,000533.SZ,000541.SZ,000651.SZ,000921.SZ,001259.SZ,002032.SZ,002035.SZ,002076.SZ,002242.SZ,002290.SZ,002418.SZ,002508.SZ,002543.SZ,002668.SZ,002676.SZ,002677.SZ,002705.SZ,002723.SZ,002959.SZ,003023.SZ,200512.SZ,200521.SZ,200541.SZ,300160.SZ,300217.SZ,300247.SZ,300272.SZ,300403.SZ,300625.SZ,300650.SZ,300824.SZ,300889.SZ,300894.SZ,300911.SZ,600261.SH,600336.SH,600651.SH,600690.SH,600854.SH,600983.SH,603215.SH,603219.SH,603303.SH,603311.SH,603355.SH,603366.SH,603486.SH,603515.SH,603519.SH,603578.SH,603657.SH,603677.SH,603685.SH,603868.SH,605117.SH,605336.SH,605365.SH,605555.SH,688169.SH\", \"pct_chg\", \"2022-06-01 09:00:00\", \"2022-10-10 11:29:35\", \"\",usedf=True)[1]\n",
    "stk_code = list(set(df_return['WINDCODE'].tolist()))\n",
    "\n",
    "df_return_rearrange = pd.DataFrame([])\n",
    "for stk_code_tmp in stk_code:\n",
    "    df_tmp = df_return[df_return['WINDCODE']==stk_code_tmp]['PCTCHANGE']\n",
    "    df_tmp.columns = [stk_code_tmp]\n",
    "    df_return_rearrange[stk_code_tmp] = df_tmp"
   ]
  },
  {
   "cell_type": "code",
   "execution_count": 38,
   "metadata": {},
   "outputs": [
    {
     "data": {
      "text/html": [
       "<div>\n",
       "<style scoped>\n",
       "    .dataframe tbody tr th:only-of-type {\n",
       "        vertical-align: middle;\n",
       "    }\n",
       "\n",
       "    .dataframe tbody tr th {\n",
       "        vertical-align: top;\n",
       "    }\n",
       "\n",
       "    .dataframe thead th {\n",
       "        text-align: right;\n",
       "    }\n",
       "</style>\n",
       "<table border=\"1\" class=\"dataframe\">\n",
       "  <thead>\n",
       "    <tr style=\"text-align: right;\">\n",
       "      <th></th>\n",
       "      <th>PCT_CHG</th>\n",
       "    </tr>\n",
       "  </thead>\n",
       "  <tbody>\n",
       "    <tr>\n",
       "      <th>2022-06-01</th>\n",
       "      <td>2.932166</td>\n",
       "    </tr>\n",
       "    <tr>\n",
       "      <th>2022-06-02</th>\n",
       "      <td>0.127551</td>\n",
       "    </tr>\n",
       "    <tr>\n",
       "      <th>2022-06-06</th>\n",
       "      <td>0.552017</td>\n",
       "    </tr>\n",
       "    <tr>\n",
       "      <th>2022-06-07</th>\n",
       "      <td>-0.971284</td>\n",
       "    </tr>\n",
       "    <tr>\n",
       "      <th>2022-06-08</th>\n",
       "      <td>-2.729211</td>\n",
       "    </tr>\n",
       "    <tr>\n",
       "      <th>...</th>\n",
       "      <td>...</td>\n",
       "    </tr>\n",
       "    <tr>\n",
       "      <th>2022-09-27</th>\n",
       "      <td>1.856436</td>\n",
       "    </tr>\n",
       "    <tr>\n",
       "      <th>2022-09-28</th>\n",
       "      <td>8.383961</td>\n",
       "    </tr>\n",
       "    <tr>\n",
       "      <th>2022-09-29</th>\n",
       "      <td>-3.531390</td>\n",
       "    </tr>\n",
       "    <tr>\n",
       "      <th>2022-09-30</th>\n",
       "      <td>-4.038350</td>\n",
       "    </tr>\n",
       "    <tr>\n",
       "      <th>2022-10-10</th>\n",
       "      <td>NaN</td>\n",
       "    </tr>\n",
       "  </tbody>\n",
       "</table>\n",
       "<p>87 rows × 1 columns</p>\n",
       "</div>"
      ],
      "text/plain": [
       "             PCT_CHG\n",
       "2022-06-01  2.932166\n",
       "2022-06-02  0.127551\n",
       "2022-06-06  0.552017\n",
       "2022-06-07 -0.971284\n",
       "2022-06-08 -2.729211\n",
       "...              ...\n",
       "2022-09-27  1.856436\n",
       "2022-09-28  8.383961\n",
       "2022-09-29 -3.531390\n",
       "2022-09-30 -4.038350\n",
       "2022-10-10       NaN\n",
       "\n",
       "[87 rows x 1 columns]"
      ]
     },
     "execution_count": 38,
     "metadata": {},
     "output_type": "execute_result"
    }
   ],
   "source": [
    "df_daily_return = w.wsd(\"603355.SH\", \"pct_chg\", f\"{start_date}\", \"2022-10-10\", \"\",usedf=True)[1]\n",
    "df_daily_return"
   ]
  },
  {
   "cell_type": "code",
   "execution_count": 35,
   "metadata": {},
   "outputs": [],
   "source": [
    "df_return_rearrange = df_return_rearrange.dropna(how='any',axis=1)"
   ]
  },
  {
   "cell_type": "code",
   "execution_count": 13,
   "metadata": {},
   "outputs": [
    {
     "data": {
      "text/plain": [
       "9.687817659699656"
      ]
     },
     "execution_count": 13,
     "metadata": {},
     "output_type": "execute_result"
    }
   ],
   "source": [
    "import numpy as np\n",
    "np.linalg.norm(df_return_rearrange.corr().values)"
   ]
  },
  {
   "cell_type": "code",
   "execution_count": 39,
   "metadata": {},
   "outputs": [
    {
     "data": {
      "application/vnd.plotly.v1+json": {
       "config": {
        "plotlyServerURL": "https://plot.ly"
       },
       "data": [
        {
         "name": "corr norm",
         "type": "scatter",
         "x": [
          "2022-06-01",
          "2022-06-02",
          "2022-06-06",
          "2022-06-07",
          "2022-06-08",
          "2022-06-09",
          "2022-06-10",
          "2022-06-13",
          "2022-06-14",
          "2022-06-15",
          "2022-06-16",
          "2022-06-17",
          "2022-06-20",
          "2022-06-21",
          "2022-06-22",
          "2022-06-23",
          "2022-06-24",
          "2022-06-27",
          "2022-06-28",
          "2022-06-29",
          "2022-06-30",
          "2022-07-01",
          "2022-07-04",
          "2022-07-05",
          "2022-07-06",
          "2022-07-07",
          "2022-07-08",
          "2022-07-11",
          "2022-07-12",
          "2022-07-13",
          "2022-07-14",
          "2022-07-15",
          "2022-07-18",
          "2022-07-19",
          "2022-07-20",
          "2022-07-21",
          "2022-07-22",
          "2022-07-25",
          "2022-07-26",
          "2022-07-27",
          "2022-07-28",
          "2022-07-29",
          "2022-08-01",
          "2022-08-02",
          "2022-08-03",
          "2022-08-04",
          "2022-08-05",
          "2022-08-08",
          "2022-08-09",
          "2022-08-10",
          "2022-08-11",
          "2022-08-12",
          "2022-08-15",
          "2022-08-16",
          "2022-08-17",
          "2022-08-18",
          "2022-08-19",
          "2022-08-22",
          "2022-08-23",
          "2022-08-24",
          "2022-08-25",
          "2022-08-26",
          "2022-08-29",
          "2022-08-30",
          "2022-08-31",
          "2022-09-01",
          "2022-09-02",
          "2022-09-05",
          "2022-09-06",
          "2022-09-07",
          "2022-09-08",
          "2022-09-09",
          "2022-09-13",
          "2022-09-14",
          "2022-09-15",
          "2022-09-16",
          "2022-09-19",
          "2022-09-20",
          "2022-09-21",
          "2022-09-22",
          "2022-09-23",
          "2022-09-26",
          "2022-09-27",
          "2022-09-28",
          "2022-09-29",
          "2022-09-30",
          "2022-10-10"
         ],
         "y": [
          11.413669492018634,
          12.181910624694495,
          11.273603658540154,
          12.118564533489423,
          11.745087686156593,
          12.615259185128878,
          11.949274938901377,
          13.422873014475512,
          14.928876632317671,
          11.075930418830445,
          12.478460063749951,
          15.017381730345877,
          13.12100251699134,
          12.202368578323693,
          11.07699935399286,
          11.830513277111317,
          10.590616994216248,
          11.59890730283235,
          10.65461586724554,
          11.264953367615924,
          12.264244921671906,
          11.563588819696813,
          11.818717763965738,
          12.228460067304944,
          11.256490009624462,
          11.292422990970728,
          12.359002728406551,
          13.567893159349257,
          11.608764476086888,
          11.724776715778287,
          18.441721339574816,
          14.217693347881104,
          12.235397131471583,
          10.826395047549092,
          10.561357759457488,
          11.23976955548651,
          11.165888783055056,
          11.776532578863403,
          10.95380648425621,
          11.142348609146257,
          11.597102988337399,
          11.898570165243076,
          12.999749355731081,
          24.517936060043727,
          16.54475067055093,
          14.323903855811531,
          11.544795461819552,
          11.685018902185453,
          10.062631587033296,
          10.522090746778844,
          16.164893162826147,
          11.157851517015262,
          11.931614496089606,
          10.786457856573188,
          10.025727880345496,
          11.437707282441686,
          10.05625187942189,
          12.321840412070902,
          11.980922542533305,
          11.027457108724082,
          12.329846205901458,
          12.242824365431156,
          19.62869345446551,
          14.47836138667444,
          14.387783014212737,
          11.825089182895004,
          11.702249335522316,
          11.736728001991517,
          10.541392167137472,
          10.733955710886889,
          10.522904140637909,
          10.386998794879752,
          10.659162042475835,
          18.974956232796814,
          11.619949801224712,
          11.317947676242696,
          13.650581958605997,
          18.573217257639968,
          15.053420721356266,
          12.157644280943728,
          12.689234231325672,
          13.435727773614175,
          13.275886651024754,
          12.499283191180576,
          13.238145094701654,
          12.657601619136257,
          14.271662925810531
         ]
        },
        {
         "name": "daily return",
         "type": "scatter",
         "x": [
          "2022-06-01",
          "2022-06-02",
          "2022-06-06",
          "2022-06-07",
          "2022-06-08",
          "2022-06-09",
          "2022-06-10",
          "2022-06-13",
          "2022-06-14",
          "2022-06-15",
          "2022-06-16",
          "2022-06-17",
          "2022-06-20",
          "2022-06-21",
          "2022-06-22",
          "2022-06-23",
          "2022-06-24",
          "2022-06-27",
          "2022-06-28",
          "2022-06-29",
          "2022-06-30",
          "2022-07-01",
          "2022-07-04",
          "2022-07-05",
          "2022-07-06",
          "2022-07-07",
          "2022-07-08",
          "2022-07-11",
          "2022-07-12",
          "2022-07-13",
          "2022-07-14",
          "2022-07-15",
          "2022-07-18",
          "2022-07-19",
          "2022-07-20",
          "2022-07-21",
          "2022-07-22",
          "2022-07-25",
          "2022-07-26",
          "2022-07-27",
          "2022-07-28",
          "2022-07-29",
          "2022-08-01",
          "2022-08-02",
          "2022-08-03",
          "2022-08-04",
          "2022-08-05",
          "2022-08-08",
          "2022-08-09",
          "2022-08-10",
          "2022-08-11",
          "2022-08-12",
          "2022-08-15",
          "2022-08-16",
          "2022-08-17",
          "2022-08-18",
          "2022-08-19",
          "2022-08-22",
          "2022-08-23",
          "2022-08-24",
          "2022-08-25",
          "2022-08-26",
          "2022-08-29",
          "2022-08-30",
          "2022-08-31",
          "2022-09-01",
          "2022-09-02",
          "2022-09-05",
          "2022-09-06",
          "2022-09-07",
          "2022-09-08",
          "2022-09-09",
          "2022-09-13",
          "2022-09-14",
          "2022-09-15",
          "2022-09-16",
          "2022-09-19",
          "2022-09-20",
          "2022-09-21",
          "2022-09-22",
          "2022-09-23",
          "2022-09-26",
          "2022-09-27",
          "2022-09-28",
          "2022-09-29",
          "2022-09-30",
          "2022-10-10"
         ],
         "xaxis": "x",
         "y": [
          2.932166301969351,
          0.12755102040817953,
          0.5520169851379944,
          -0.9712837837837848,
          -2.7292110874200497,
          -3.0249890398947676,
          1.8535262206148146,
          1.4647137150465976,
          0.7874015748031548,
          2.12673611111113,
          1.3174670633234118,
          0.880872483221479,
          2.1621621621621596,
          -1.2210012210012344,
          -1.1536876802636975,
          1.7090454355981717,
          2.1311475409836045,
          -0.8426966292134855,
          -0.20234722784297493,
          -0.7299270072992747,
          3.0637254901960773,
          -1.3079667063020155,
          0.9236947791164669,
          -0.7162753680859576,
          0.4008016032064232,
          8.98203592814371,
          7.655677655677646,
          -1.667233752977203,
          -0.03460207612456686,
          -4.361370716510901,
          2.6420557365182775,
          -3.702397743300419,
          1.4063392512702266,
          0.7121439280359873,
          2.7912169705991836,
          -2.6068066618392565,
          -1.7472118959107688,
          -2.3079833522512407,
          2.556158017041063,
          10.007552870090626,
          7.1060762100926915,
          -0.8333333333333274,
          6.916612798965733,
          -0.634824667472802,
          -0.030422878004248664,
          -1.5520389531345091,
          0.43276661514683745,
          1.015697137580791,
          0.8531383302864095,
          0.6042296072507489,
          1.771771771771776,
          -0.5606373561522491,
          4.451038575667659,
          -0.056818181818197935,
          -0.7106310403638357,
          1.88949327225881,
          -3.0626580500140617,
          0,
          -4.347826086956526,
          -5.45454545454545,
          9.999999999999996,
          5.099067599067608,
          -5.822012752980325,
          2.737709743891673,
          -4.297994269340978,
          -1.4071856287425055,
          0.1822046765866997,
          -1.51561079114883,
          6.617420744844563,
          -1.5877598152424899,
          -6.33616896450573,
          0.7516442217350481,
          -1.2744793285669773,
          -1.3853904282115963,
          -3.7994891443167282,
          1.3607699966810374,
          3.3398821218074644,
          3.4220532319391763,
          -0.5208333333333459,
          -2.186633815829977,
          -0.03148614609573343,
          1.7952755905511812,
          1.8564356435643632,
          8.383961117861475,
          -3.531390134529137,
          -4.038349796629871,
          null
         ],
         "yaxis": "y2"
        }
       ],
       "layout": {
        "template": {
         "data": {
          "bar": [
           {
            "error_x": {
             "color": "#2a3f5f"
            },
            "error_y": {
             "color": "#2a3f5f"
            },
            "marker": {
             "line": {
              "color": "#E5ECF6",
              "width": 0.5
             },
             "pattern": {
              "fillmode": "overlay",
              "size": 10,
              "solidity": 0.2
             }
            },
            "type": "bar"
           }
          ],
          "barpolar": [
           {
            "marker": {
             "line": {
              "color": "#E5ECF6",
              "width": 0.5
             },
             "pattern": {
              "fillmode": "overlay",
              "size": 10,
              "solidity": 0.2
             }
            },
            "type": "barpolar"
           }
          ],
          "carpet": [
           {
            "aaxis": {
             "endlinecolor": "#2a3f5f",
             "gridcolor": "white",
             "linecolor": "white",
             "minorgridcolor": "white",
             "startlinecolor": "#2a3f5f"
            },
            "baxis": {
             "endlinecolor": "#2a3f5f",
             "gridcolor": "white",
             "linecolor": "white",
             "minorgridcolor": "white",
             "startlinecolor": "#2a3f5f"
            },
            "type": "carpet"
           }
          ],
          "choropleth": [
           {
            "colorbar": {
             "outlinewidth": 0,
             "ticks": ""
            },
            "type": "choropleth"
           }
          ],
          "contour": [
           {
            "colorbar": {
             "outlinewidth": 0,
             "ticks": ""
            },
            "colorscale": [
             [
              0,
              "#0d0887"
             ],
             [
              0.1111111111111111,
              "#46039f"
             ],
             [
              0.2222222222222222,
              "#7201a8"
             ],
             [
              0.3333333333333333,
              "#9c179e"
             ],
             [
              0.4444444444444444,
              "#bd3786"
             ],
             [
              0.5555555555555556,
              "#d8576b"
             ],
             [
              0.6666666666666666,
              "#ed7953"
             ],
             [
              0.7777777777777778,
              "#fb9f3a"
             ],
             [
              0.8888888888888888,
              "#fdca26"
             ],
             [
              1,
              "#f0f921"
             ]
            ],
            "type": "contour"
           }
          ],
          "contourcarpet": [
           {
            "colorbar": {
             "outlinewidth": 0,
             "ticks": ""
            },
            "type": "contourcarpet"
           }
          ],
          "heatmap": [
           {
            "colorbar": {
             "outlinewidth": 0,
             "ticks": ""
            },
            "colorscale": [
             [
              0,
              "#0d0887"
             ],
             [
              0.1111111111111111,
              "#46039f"
             ],
             [
              0.2222222222222222,
              "#7201a8"
             ],
             [
              0.3333333333333333,
              "#9c179e"
             ],
             [
              0.4444444444444444,
              "#bd3786"
             ],
             [
              0.5555555555555556,
              "#d8576b"
             ],
             [
              0.6666666666666666,
              "#ed7953"
             ],
             [
              0.7777777777777778,
              "#fb9f3a"
             ],
             [
              0.8888888888888888,
              "#fdca26"
             ],
             [
              1,
              "#f0f921"
             ]
            ],
            "type": "heatmap"
           }
          ],
          "heatmapgl": [
           {
            "colorbar": {
             "outlinewidth": 0,
             "ticks": ""
            },
            "colorscale": [
             [
              0,
              "#0d0887"
             ],
             [
              0.1111111111111111,
              "#46039f"
             ],
             [
              0.2222222222222222,
              "#7201a8"
             ],
             [
              0.3333333333333333,
              "#9c179e"
             ],
             [
              0.4444444444444444,
              "#bd3786"
             ],
             [
              0.5555555555555556,
              "#d8576b"
             ],
             [
              0.6666666666666666,
              "#ed7953"
             ],
             [
              0.7777777777777778,
              "#fb9f3a"
             ],
             [
              0.8888888888888888,
              "#fdca26"
             ],
             [
              1,
              "#f0f921"
             ]
            ],
            "type": "heatmapgl"
           }
          ],
          "histogram": [
           {
            "marker": {
             "pattern": {
              "fillmode": "overlay",
              "size": 10,
              "solidity": 0.2
             }
            },
            "type": "histogram"
           }
          ],
          "histogram2d": [
           {
            "colorbar": {
             "outlinewidth": 0,
             "ticks": ""
            },
            "colorscale": [
             [
              0,
              "#0d0887"
             ],
             [
              0.1111111111111111,
              "#46039f"
             ],
             [
              0.2222222222222222,
              "#7201a8"
             ],
             [
              0.3333333333333333,
              "#9c179e"
             ],
             [
              0.4444444444444444,
              "#bd3786"
             ],
             [
              0.5555555555555556,
              "#d8576b"
             ],
             [
              0.6666666666666666,
              "#ed7953"
             ],
             [
              0.7777777777777778,
              "#fb9f3a"
             ],
             [
              0.8888888888888888,
              "#fdca26"
             ],
             [
              1,
              "#f0f921"
             ]
            ],
            "type": "histogram2d"
           }
          ],
          "histogram2dcontour": [
           {
            "colorbar": {
             "outlinewidth": 0,
             "ticks": ""
            },
            "colorscale": [
             [
              0,
              "#0d0887"
             ],
             [
              0.1111111111111111,
              "#46039f"
             ],
             [
              0.2222222222222222,
              "#7201a8"
             ],
             [
              0.3333333333333333,
              "#9c179e"
             ],
             [
              0.4444444444444444,
              "#bd3786"
             ],
             [
              0.5555555555555556,
              "#d8576b"
             ],
             [
              0.6666666666666666,
              "#ed7953"
             ],
             [
              0.7777777777777778,
              "#fb9f3a"
             ],
             [
              0.8888888888888888,
              "#fdca26"
             ],
             [
              1,
              "#f0f921"
             ]
            ],
            "type": "histogram2dcontour"
           }
          ],
          "mesh3d": [
           {
            "colorbar": {
             "outlinewidth": 0,
             "ticks": ""
            },
            "type": "mesh3d"
           }
          ],
          "parcoords": [
           {
            "line": {
             "colorbar": {
              "outlinewidth": 0,
              "ticks": ""
             }
            },
            "type": "parcoords"
           }
          ],
          "pie": [
           {
            "automargin": true,
            "type": "pie"
           }
          ],
          "scatter": [
           {
            "fillpattern": {
             "fillmode": "overlay",
             "size": 10,
             "solidity": 0.2
            },
            "type": "scatter"
           }
          ],
          "scatter3d": [
           {
            "line": {
             "colorbar": {
              "outlinewidth": 0,
              "ticks": ""
             }
            },
            "marker": {
             "colorbar": {
              "outlinewidth": 0,
              "ticks": ""
             }
            },
            "type": "scatter3d"
           }
          ],
          "scattercarpet": [
           {
            "marker": {
             "colorbar": {
              "outlinewidth": 0,
              "ticks": ""
             }
            },
            "type": "scattercarpet"
           }
          ],
          "scattergeo": [
           {
            "marker": {
             "colorbar": {
              "outlinewidth": 0,
              "ticks": ""
             }
            },
            "type": "scattergeo"
           }
          ],
          "scattergl": [
           {
            "marker": {
             "colorbar": {
              "outlinewidth": 0,
              "ticks": ""
             }
            },
            "type": "scattergl"
           }
          ],
          "scattermapbox": [
           {
            "marker": {
             "colorbar": {
              "outlinewidth": 0,
              "ticks": ""
             }
            },
            "type": "scattermapbox"
           }
          ],
          "scatterpolar": [
           {
            "marker": {
             "colorbar": {
              "outlinewidth": 0,
              "ticks": ""
             }
            },
            "type": "scatterpolar"
           }
          ],
          "scatterpolargl": [
           {
            "marker": {
             "colorbar": {
              "outlinewidth": 0,
              "ticks": ""
             }
            },
            "type": "scatterpolargl"
           }
          ],
          "scatterternary": [
           {
            "marker": {
             "colorbar": {
              "outlinewidth": 0,
              "ticks": ""
             }
            },
            "type": "scatterternary"
           }
          ],
          "surface": [
           {
            "colorbar": {
             "outlinewidth": 0,
             "ticks": ""
            },
            "colorscale": [
             [
              0,
              "#0d0887"
             ],
             [
              0.1111111111111111,
              "#46039f"
             ],
             [
              0.2222222222222222,
              "#7201a8"
             ],
             [
              0.3333333333333333,
              "#9c179e"
             ],
             [
              0.4444444444444444,
              "#bd3786"
             ],
             [
              0.5555555555555556,
              "#d8576b"
             ],
             [
              0.6666666666666666,
              "#ed7953"
             ],
             [
              0.7777777777777778,
              "#fb9f3a"
             ],
             [
              0.8888888888888888,
              "#fdca26"
             ],
             [
              1,
              "#f0f921"
             ]
            ],
            "type": "surface"
           }
          ],
          "table": [
           {
            "cells": {
             "fill": {
              "color": "#EBF0F8"
             },
             "line": {
              "color": "white"
             }
            },
            "header": {
             "fill": {
              "color": "#C8D4E3"
             },
             "line": {
              "color": "white"
             }
            },
            "type": "table"
           }
          ]
         },
         "layout": {
          "annotationdefaults": {
           "arrowcolor": "#2a3f5f",
           "arrowhead": 0,
           "arrowwidth": 1
          },
          "autotypenumbers": "strict",
          "coloraxis": {
           "colorbar": {
            "outlinewidth": 0,
            "ticks": ""
           }
          },
          "colorscale": {
           "diverging": [
            [
             0,
             "#8e0152"
            ],
            [
             0.1,
             "#c51b7d"
            ],
            [
             0.2,
             "#de77ae"
            ],
            [
             0.3,
             "#f1b6da"
            ],
            [
             0.4,
             "#fde0ef"
            ],
            [
             0.5,
             "#f7f7f7"
            ],
            [
             0.6,
             "#e6f5d0"
            ],
            [
             0.7,
             "#b8e186"
            ],
            [
             0.8,
             "#7fbc41"
            ],
            [
             0.9,
             "#4d9221"
            ],
            [
             1,
             "#276419"
            ]
           ],
           "sequential": [
            [
             0,
             "#0d0887"
            ],
            [
             0.1111111111111111,
             "#46039f"
            ],
            [
             0.2222222222222222,
             "#7201a8"
            ],
            [
             0.3333333333333333,
             "#9c179e"
            ],
            [
             0.4444444444444444,
             "#bd3786"
            ],
            [
             0.5555555555555556,
             "#d8576b"
            ],
            [
             0.6666666666666666,
             "#ed7953"
            ],
            [
             0.7777777777777778,
             "#fb9f3a"
            ],
            [
             0.8888888888888888,
             "#fdca26"
            ],
            [
             1,
             "#f0f921"
            ]
           ],
           "sequentialminus": [
            [
             0,
             "#0d0887"
            ],
            [
             0.1111111111111111,
             "#46039f"
            ],
            [
             0.2222222222222222,
             "#7201a8"
            ],
            [
             0.3333333333333333,
             "#9c179e"
            ],
            [
             0.4444444444444444,
             "#bd3786"
            ],
            [
             0.5555555555555556,
             "#d8576b"
            ],
            [
             0.6666666666666666,
             "#ed7953"
            ],
            [
             0.7777777777777778,
             "#fb9f3a"
            ],
            [
             0.8888888888888888,
             "#fdca26"
            ],
            [
             1,
             "#f0f921"
            ]
           ]
          },
          "colorway": [
           "#636efa",
           "#EF553B",
           "#00cc96",
           "#ab63fa",
           "#FFA15A",
           "#19d3f3",
           "#FF6692",
           "#B6E880",
           "#FF97FF",
           "#FECB52"
          ],
          "font": {
           "color": "#2a3f5f"
          },
          "geo": {
           "bgcolor": "white",
           "lakecolor": "white",
           "landcolor": "#E5ECF6",
           "showlakes": true,
           "showland": true,
           "subunitcolor": "white"
          },
          "hoverlabel": {
           "align": "left"
          },
          "hovermode": "closest",
          "mapbox": {
           "style": "light"
          },
          "paper_bgcolor": "white",
          "plot_bgcolor": "#E5ECF6",
          "polar": {
           "angularaxis": {
            "gridcolor": "white",
            "linecolor": "white",
            "ticks": ""
           },
           "bgcolor": "#E5ECF6",
           "radialaxis": {
            "gridcolor": "white",
            "linecolor": "white",
            "ticks": ""
           }
          },
          "scene": {
           "xaxis": {
            "backgroundcolor": "#E5ECF6",
            "gridcolor": "white",
            "gridwidth": 2,
            "linecolor": "white",
            "showbackground": true,
            "ticks": "",
            "zerolinecolor": "white"
           },
           "yaxis": {
            "backgroundcolor": "#E5ECF6",
            "gridcolor": "white",
            "gridwidth": 2,
            "linecolor": "white",
            "showbackground": true,
            "ticks": "",
            "zerolinecolor": "white"
           },
           "zaxis": {
            "backgroundcolor": "#E5ECF6",
            "gridcolor": "white",
            "gridwidth": 2,
            "linecolor": "white",
            "showbackground": true,
            "ticks": "",
            "zerolinecolor": "white"
           }
          },
          "shapedefaults": {
           "line": {
            "color": "#2a3f5f"
           }
          },
          "ternary": {
           "aaxis": {
            "gridcolor": "white",
            "linecolor": "white",
            "ticks": ""
           },
           "baxis": {
            "gridcolor": "white",
            "linecolor": "white",
            "ticks": ""
           },
           "bgcolor": "#E5ECF6",
           "caxis": {
            "gridcolor": "white",
            "linecolor": "white",
            "ticks": ""
           }
          },
          "title": {
           "x": 0.05
          },
          "xaxis": {
           "automargin": true,
           "gridcolor": "white",
           "linecolor": "white",
           "ticks": "",
           "title": {
            "standoff": 15
           },
           "zerolinecolor": "white",
           "zerolinewidth": 2
          },
          "yaxis": {
           "automargin": true,
           "gridcolor": "white",
           "linecolor": "white",
           "ticks": "",
           "title": {
            "standoff": 15
           },
           "zerolinecolor": "white",
           "zerolinewidth": 2
          }
         }
        },
        "yaxis2": {
         "anchor": "x",
         "overlaying": "y",
         "side": "right"
        }
       }
      }
     },
     "metadata": {},
     "output_type": "display_data"
    },
    {
     "name": "stdout",
     "output_type": "stream",
     "text": [
      "87\n"
     ]
    }
   ],
   "source": [
    "def cal_corr(stk_code,df_return_rearrange):\n",
    "    main_code = '603355.SH'\n",
    "    df_return_rearrange[[main_code,stk_code]]\n",
    "    tmp_index = df_daily.index\n",
    "    df_corr = pd.DataFrame([],columns=['corr'])\n",
    "    corr_mat_list = []\n",
    "    corr_norm_list = []\n",
    "    for tmp_index_day in tmp_index:\n",
    "        tmp_corr = df_return_rearrange[[main_code,stk_code]].loc[str(tmp_index_day).split(' ')[0]].corr().iloc[1,0]\n",
    "        df_corr.loc[tmp_index_day] = tmp_corr\n",
    "        corr_mat = df_return_rearrange.loc[str(tmp_index_day).split(' ')[0]].corr()\n",
    "        corr_mat_list.append(corr_mat)\n",
    "        corr_norm = np.linalg.norm(corr_mat.values)\n",
    "        corr_norm_list.append(corr_norm)\n",
    "    # df_corr.plot(title=stk_code)\n",
    "    # df_daily.plot()\n",
    "    df_total = pd.concat([df_corr,df_daily],axis=1)\n",
    "    df_total['corr norm'] = corr_norm_list\n",
    "    df_total['daily return'] = df_daily_return['PCT_CHG']\n",
    "    fig = go.Figure(data=[\n",
    "        go.Scatter(name='corr norm', x=df_total.index, y=df_total['corr norm']),\n",
    "        go.Scatter(name='daily return', x=df_total.index, y=df_total['daily return'],xaxis='x',yaxis='y2'),\n",
    "    ],\n",
    "    layout=go.Layout(yaxis2=dict(anchor='x', overlaying='y', side='right'))\n",
    "    )\n",
    "    fig.show()\n",
    "    print(len(corr_norm_list))\n",
    "    return corr_mat_list\n",
    "\n",
    "for tmp_stk_code in stk_code[:1]:\n",
    "    corr_mat_list = cal_corr(tmp_stk_code,df_return_rearrange)\n"
   ]
  },
  {
   "cell_type": "code",
   "execution_count": 15,
   "metadata": {},
   "outputs": [],
   "source": [
    "# import plotly.graph_objects as go\n",
    " \n",
    "# fig = go.Figure(data=[\n",
    "#     go.Scatter(name='corr', x=df_total.index, y=df_total['corr']),\n",
    "#     go.Scatter(name='CLOSE', x=df_total.index, y=df_total['CLOSE'],xaxis='x',yaxis='y2'),\n",
    "    \n",
    "# ],\n",
    "# layout=go.Layout(yaxis2=dict(anchor='x', overlaying='y', side='right'))\n",
    "# )\n",
    "# fig.show()"
   ]
  }
 ],
 "metadata": {
  "kernelspec": {
   "display_name": "Python 3.9.7 ('base')",
   "language": "python",
   "name": "python3"
  },
  "language_info": {
   "codemirror_mode": {
    "name": "ipython",
    "version": 3
   },
   "file_extension": ".py",
   "mimetype": "text/x-python",
   "name": "python",
   "nbconvert_exporter": "python",
   "pygments_lexer": "ipython3",
   "version": "3.9.7"
  },
  "orig_nbformat": 4,
  "vscode": {
   "interpreter": {
    "hash": "4b7a3c99c09164ed3315a85b9be868456d78d186d21965e8a7155bab558fd18f"
   }
  }
 },
 "nbformat": 4,
 "nbformat_minor": 2
}
