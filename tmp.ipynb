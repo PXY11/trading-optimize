{
 "cells": [
  {
   "cell_type": "markdown",
   "metadata": {},
   "source": [
    "# snapshot data explore"
   ]
  },
  {
   "cell_type": "code",
   "execution_count": 1,
   "metadata": {},
   "outputs": [],
   "source": [
    "import pandas as pd\n",
    "import os\n",
    "\n",
    "stk_code = '603355'\n",
    "exchange = 'sh_exchange'\n",
    "folder_path = f'/Users/bokie/code/python/CMS/TWAP优化/trading-optimize/stock_data/{exchange}/{stk_code}'\n",
    "\n",
    "files_pkl = os.listdir(folder_path)\n",
    "files_pkl.remove('.DS_Store')\n",
    "files_pkl\n",
    "stk_dic = {}\n",
    "for file in files_pkl:\n",
    "    tmp_path = folder_path + '/' + file\n",
    "    df_tmp = pd.read_pickle(tmp_path)\n",
    "    tmp_key = file[7:15]\n",
    "    stk_dic[tmp_key] = df_tmp"
   ]
  },
  {
   "cell_type": "code",
   "execution_count": 2,
   "metadata": {},
   "outputs": [
    {
     "data": {
      "text/plain": [
       "dict_keys(['20220812', '20220609', '20220621', '20220620', '20220608', '20220805', '20220811', '20220622', '20220623', '20220810', '20220804', '20220627', '20220815', '20220801', '20220829', '20220817', '20220803', '20220630', '20220624', '20220802', '20220816', '20220905', '20220722', '20220906', '20220721', '20220720', '20220708', '20220907', '20220913', '20220718', '20220719', '20220725', '20220902', '20220916', '20220914', '20220727', '20220726', '20220915', '20220901', '20220919', '20220728', '20220714', '20220701', '20220715', '20220729', '20220922', '20220711', '20220705', '20220704', '20220923', '20220909', '20220921', '20220706', '20220712', '20220713', '20220707', '20220920', '20220908', '20220628', '20220614', '20220601', '20220615', '20220629', '20220826', '20220824', '20220830', '20220818', '20220617', '20220616', '20220602', '20220819', '20220831', '20220825', '20220809', '20220606', '20220613', '20220607', '20220808', '20220822', '20220610', '20220823'])"
      ]
     },
     "execution_count": 2,
     "metadata": {},
     "output_type": "execute_result"
    }
   ],
   "source": [
    "stk_dic.keys()"
   ]
  },
  {
   "cell_type": "code",
   "execution_count": 3,
   "metadata": {},
   "outputs": [
    {
     "data": {
      "text/html": [
       "<div>\n",
       "<style scoped>\n",
       "    .dataframe tbody tr th:only-of-type {\n",
       "        vertical-align: middle;\n",
       "    }\n",
       "\n",
       "    .dataframe tbody tr th {\n",
       "        vertical-align: top;\n",
       "    }\n",
       "\n",
       "    .dataframe thead th {\n",
       "        text-align: right;\n",
       "    }\n",
       "</style>\n",
       "<table border=\"1\" class=\"dataframe\">\n",
       "  <thead>\n",
       "    <tr style=\"text-align: right;\">\n",
       "      <th></th>\n",
       "      <th>auto_id</th>\n",
       "      <th>task_id</th>\n",
       "      <th>file_id</th>\n",
       "      <th>security_id</th>\n",
       "      <th>date_time</th>\n",
       "      <th>pre_close_px</th>\n",
       "      <th>open_px</th>\n",
       "      <th>high_px</th>\n",
       "      <th>low_px</th>\n",
       "      <th>last_px</th>\n",
       "      <th>...</th>\n",
       "      <th>etf_sell_number</th>\n",
       "      <th>etf_sell_amount</th>\n",
       "      <th>etf_sell_money</th>\n",
       "      <th>avg_px</th>\n",
       "      <th>close_px</th>\n",
       "      <th>msg_seq_num</th>\n",
       "      <th>sending_time</th>\n",
       "      <th>war_lower_px</th>\n",
       "      <th>trading_phase_code</th>\n",
       "      <th>num_image_status</th>\n",
       "    </tr>\n",
       "  </thead>\n",
       "  <tbody>\n",
       "    <tr>\n",
       "      <th>0</th>\n",
       "      <td>48445633958</td>\n",
       "      <td>1009658</td>\n",
       "      <td>1007006</td>\n",
       "      <td>603355</td>\n",
       "      <td>20220812091530</td>\n",
       "      <td>33.89</td>\n",
       "      <td>0.0</td>\n",
       "      <td>0.0</td>\n",
       "      <td>0.0</td>\n",
       "      <td>0.0</td>\n",
       "      <td>...</td>\n",
       "      <td>0</td>\n",
       "      <td>0</td>\n",
       "      <td>0.0</td>\n",
       "      <td>0.0</td>\n",
       "      <td>0.0</td>\n",
       "      <td>12819</td>\n",
       "      <td>20220812091530</td>\n",
       "      <td>0.0</td>\n",
       "      <td>C111</td>\n",
       "      <td>1</td>\n",
       "    </tr>\n",
       "    <tr>\n",
       "      <th>1</th>\n",
       "      <td>48445646300</td>\n",
       "      <td>1009658</td>\n",
       "      <td>1007006</td>\n",
       "      <td>603355</td>\n",
       "      <td>20220812091545</td>\n",
       "      <td>33.89</td>\n",
       "      <td>0.0</td>\n",
       "      <td>0.0</td>\n",
       "      <td>0.0</td>\n",
       "      <td>0.0</td>\n",
       "      <td>...</td>\n",
       "      <td>0</td>\n",
       "      <td>0</td>\n",
       "      <td>0.0</td>\n",
       "      <td>0.0</td>\n",
       "      <td>0.0</td>\n",
       "      <td>13081</td>\n",
       "      <td>20220812091545</td>\n",
       "      <td>0.0</td>\n",
       "      <td>C111</td>\n",
       "      <td>1</td>\n",
       "    </tr>\n",
       "    <tr>\n",
       "      <th>2</th>\n",
       "      <td>48446682944</td>\n",
       "      <td>1009658</td>\n",
       "      <td>1007006</td>\n",
       "      <td>603355</td>\n",
       "      <td>20220812091657</td>\n",
       "      <td>33.89</td>\n",
       "      <td>0.0</td>\n",
       "      <td>0.0</td>\n",
       "      <td>0.0</td>\n",
       "      <td>0.0</td>\n",
       "      <td>...</td>\n",
       "      <td>0</td>\n",
       "      <td>0</td>\n",
       "      <td>0.0</td>\n",
       "      <td>0.0</td>\n",
       "      <td>0.0</td>\n",
       "      <td>15028</td>\n",
       "      <td>20220812091657</td>\n",
       "      <td>0.0</td>\n",
       "      <td>C111</td>\n",
       "      <td>1</td>\n",
       "    </tr>\n",
       "    <tr>\n",
       "      <th>3</th>\n",
       "      <td>48445940813</td>\n",
       "      <td>1009658</td>\n",
       "      <td>1007006</td>\n",
       "      <td>603355</td>\n",
       "      <td>20220812091739</td>\n",
       "      <td>33.89</td>\n",
       "      <td>0.0</td>\n",
       "      <td>0.0</td>\n",
       "      <td>0.0</td>\n",
       "      <td>0.0</td>\n",
       "      <td>...</td>\n",
       "      <td>0</td>\n",
       "      <td>0</td>\n",
       "      <td>0.0</td>\n",
       "      <td>0.0</td>\n",
       "      <td>0.0</td>\n",
       "      <td>16489</td>\n",
       "      <td>20220812091739</td>\n",
       "      <td>0.0</td>\n",
       "      <td>C111</td>\n",
       "      <td>1</td>\n",
       "    </tr>\n",
       "    <tr>\n",
       "      <th>4</th>\n",
       "      <td>48446019442</td>\n",
       "      <td>1009658</td>\n",
       "      <td>1007006</td>\n",
       "      <td>603355</td>\n",
       "      <td>20220812091803</td>\n",
       "      <td>33.89</td>\n",
       "      <td>0.0</td>\n",
       "      <td>0.0</td>\n",
       "      <td>0.0</td>\n",
       "      <td>0.0</td>\n",
       "      <td>...</td>\n",
       "      <td>0</td>\n",
       "      <td>0</td>\n",
       "      <td>0.0</td>\n",
       "      <td>0.0</td>\n",
       "      <td>0.0</td>\n",
       "      <td>17262</td>\n",
       "      <td>20220812091803</td>\n",
       "      <td>0.0</td>\n",
       "      <td>C111</td>\n",
       "      <td>1</td>\n",
       "    </tr>\n",
       "  </tbody>\n",
       "</table>\n",
       "<p>5 rows × 204 columns</p>\n",
       "</div>"
      ],
      "text/plain": [
       "       auto_id  task_id  file_id security_id       date_time  pre_close_px  \\\n",
       "0  48445633958  1009658  1007006      603355  20220812091530         33.89   \n",
       "1  48445646300  1009658  1007006      603355  20220812091545         33.89   \n",
       "2  48446682944  1009658  1007006      603355  20220812091657         33.89   \n",
       "3  48445940813  1009658  1007006      603355  20220812091739         33.89   \n",
       "4  48446019442  1009658  1007006      603355  20220812091803         33.89   \n",
       "\n",
       "   open_px  high_px  low_px  last_px  ...  etf_sell_number  etf_sell_amount  \\\n",
       "0      0.0      0.0     0.0      0.0  ...                0                0   \n",
       "1      0.0      0.0     0.0      0.0  ...                0                0   \n",
       "2      0.0      0.0     0.0      0.0  ...                0                0   \n",
       "3      0.0      0.0     0.0      0.0  ...                0                0   \n",
       "4      0.0      0.0     0.0      0.0  ...                0                0   \n",
       "\n",
       "  etf_sell_money  avg_px  close_px  msg_seq_num    sending_time  war_lower_px  \\\n",
       "0            0.0     0.0       0.0        12819  20220812091530           0.0   \n",
       "1            0.0     0.0       0.0        13081  20220812091545           0.0   \n",
       "2            0.0     0.0       0.0        15028  20220812091657           0.0   \n",
       "3            0.0     0.0       0.0        16489  20220812091739           0.0   \n",
       "4            0.0     0.0       0.0        17262  20220812091803           0.0   \n",
       "\n",
       "   trading_phase_code  num_image_status  \n",
       "0                C111                 1  \n",
       "1                C111                 1  \n",
       "2                C111                 1  \n",
       "3                C111                 1  \n",
       "4                C111                 1  \n",
       "\n",
       "[5 rows x 204 columns]"
      ]
     },
     "execution_count": 3,
     "metadata": {},
     "output_type": "execute_result"
    }
   ],
   "source": [
    "stk_dic['20220812'].head()"
   ]
  },
  {
   "cell_type": "code",
   "execution_count": null,
   "metadata": {},
   "outputs": [],
   "source": [
    "pd.set_option('display.max_rows', None)\n",
    "stk_dic['20220812']['index_col'] = stk_dic['20220812']['date_time']\n",
    "stk_dic['20220812'].set_index('index_col').iloc[:,113:114]"
   ]
  },
  {
   "cell_type": "markdown",
   "metadata": {},
   "source": [
    "# correlation explore"
   ]
  },
  {
   "cell_type": "code",
   "execution_count": null,
   "metadata": {},
   "outputs": [],
   "source": [
    "from WindPy import *\n",
    "\n",
    "#Wind API 使用W账户密码登录\n",
    "w.start() \n",
    "\n",
    "#return True and then can go to next operation.\n",
    "w.isconnected()\n",
    "\n",
    "import pandas as pd\n",
    "df_return = w.wsi(\"000333.SZ,000521.SZ,000533.SZ,000541.SZ,000651.SZ,000921.SZ,001259.SZ,002032.SZ,002035.SZ,002076.SZ,002242.SZ,002290.SZ,002418.SZ,002508.SZ,002543.SZ,002668.SZ,002676.SZ,002677.SZ,002705.SZ,002723.SZ,002959.SZ,003023.SZ,200512.SZ,200521.SZ,200541.SZ,300160.SZ,300217.SZ,300247.SZ,300272.SZ,300403.SZ,300625.SZ,300650.SZ,300824.SZ,300889.SZ,300894.SZ,300911.SZ,600261.SH,600336.SH,600651.SH,600690.SH,600854.SH,600983.SH,603215.SH,603219.SH,603303.SH,603311.SH,603355.SH,603366.SH,603486.SH,603515.SH,603519.SH,603578.SH,603657.SH,603677.SH,603685.SH,603868.SH,605117.SH,605336.SH,605365.SH,605555.SH,688169.SH\", \"pct_chg\", \"2022-06-01 09:00:00\", \"2022-10-10 11:29:35\", \"\",usedf=True)[1]"
   ]
  },
  {
   "cell_type": "code",
   "execution_count": null,
   "metadata": {},
   "outputs": [],
   "source": [
    "stk_code = list(set(df_return['WINDCODE'].tolist()))"
   ]
  },
  {
   "cell_type": "code",
   "execution_count": null,
   "metadata": {},
   "outputs": [],
   "source": [
    "# stk_code = list(set(df_return['WINDCODE'].tolist()))\n",
    "df_return_rearrange = pd.DataFrame([])\n",
    "for stk_code_tmp in stk_code:\n",
    "    df_tmp = df_return[df_return['WINDCODE']==stk_code_tmp]['PCTCHANGE']\n",
    "    df_tmp.columns = [stk_code_tmp]\n",
    "    df_return_rearrange[stk_code_tmp] = df_tmp"
   ]
  },
  {
   "cell_type": "code",
   "execution_count": null,
   "metadata": {},
   "outputs": [],
   "source": [
    "df_return_rearrange[['603355.SH','000521.SZ']].index"
   ]
  },
  {
   "cell_type": "code",
   "execution_count": null,
   "metadata": {},
   "outputs": [],
   "source": [
    "df_return_rearrange[['603355.SH','000521.SZ']].iloc[:242,:]"
   ]
  },
  {
   "cell_type": "code",
   "execution_count": null,
   "metadata": {},
   "outputs": [],
   "source": [
    "tmp_index = df_return_rearrange[['603355.SH','000521.SZ']].resample('D').last().index.tolist()\n",
    "\n",
    "df_return_rearrange[['603355.SH','000521.SZ']].loc[str(tmp_index[1]).split(' ')[0]].corr()"
   ]
  },
  {
   "cell_type": "code",
   "execution_count": null,
   "metadata": {},
   "outputs": [],
   "source": [
    "df_corr = pd.DataFrame([],columns=['corr'])\n",
    "for tmp_index_day in tmp_index:\n",
    "    tmp_corr = df_return_rearrange[['603355.SH','000521.SZ']].loc[str(tmp_index_day).split(' ')[0]].corr().iloc[1,0]\n",
    "    df_corr.loc[tmp_index_day] = tmp_corr\n",
    "df_corr"
   ]
  },
  {
   "cell_type": "code",
   "execution_count": null,
   "metadata": {},
   "outputs": [],
   "source": [
    "df_corr.plot()"
   ]
  },
  {
   "cell_type": "code",
   "execution_count": null,
   "metadata": {},
   "outputs": [],
   "source": [
    "w.wsd(\"603355.SH\", \"close\", \"2022-06-01\", \"2022-10-10\", \"\",usedf=True)[1].plot()"
   ]
  },
  {
   "cell_type": "code",
   "execution_count": null,
   "metadata": {},
   "outputs": [],
   "source": [
    "tmp_index = w.wsd(\"603355.SH\", \"close\", \"2022-06-01\", \"2022-10-10\", \"\",usedf=True)[1].index\n",
    "tmp_index"
   ]
  },
  {
   "cell_type": "code",
   "execution_count": null,
   "metadata": {},
   "outputs": [],
   "source": [
    "# from datetime import datetime\n",
    "# str(tmp_index[1]).split(' ')[0]"
   ]
  },
  {
   "cell_type": "code",
   "execution_count": null,
   "metadata": {},
   "outputs": [],
   "source": [
    "# df_corr = df_return_rearrange[['603355.SH','000521.SZ']].rolling(window=242).corr()[['603355.SH']]\n",
    "# df_corr[df_corr!=1]"
   ]
  },
  {
   "cell_type": "code",
   "execution_count": null,
   "metadata": {},
   "outputs": [],
   "source": [
    "# pd.set_option('display.max_rows', None)\n",
    "# df_return_rearrange.corr()['603355.SH']"
   ]
  },
  {
   "cell_type": "code",
   "execution_count": null,
   "metadata": {},
   "outputs": [],
   "source": [
    "from WindPy import *\n",
    "\n",
    "#Wind API 使用W账户密码登录\n",
    "w.start() \n",
    "\n",
    "#return True and then can go to next operation.\n",
    "w.isconnected()\n",
    "\n",
    "import pandas as pd\n",
    "import plotly.graph_objects as go\n",
    "start_date = '2022-06-01'\n",
    "df_daily = w.wsd(\"603355.SH\", \"close\", f\"{start_date}\", \"2022-10-10\", \"\",usedf=True)[1]\n",
    "# df_return = w.wsi(f\"000333.SZ,000521.SZ,000533.SZ,000541.SZ,000651.SZ,000921.SZ,001259.SZ,002032.SZ,002035.SZ,002076.SZ,002242.SZ,002290.SZ,002418.SZ,002508.SZ,002543.SZ,002668.SZ,002676.SZ,002677.SZ,002705.SZ,002723.SZ,002959.SZ,003023.SZ,200512.SZ,200521.SZ,200541.SZ,300160.SZ,300217.SZ,300247.SZ,300272.SZ,300403.SZ,300625.SZ,300650.SZ,300824.SZ,300889.SZ,300894.SZ,300911.SZ,600261.SH,600336.SH,600651.SH,600690.SH,600854.SH,600983.SH,603215.SH,603219.SH,603303.SH,603311.SH,603355.SH,603366.SH,603486.SH,603515.SH,603519.SH,603578.SH,603657.SH,603677.SH,603685.SH,603868.SH,605117.SH,605336.SH,605365.SH,605555.SH,688169.SH\", \"pct_chg\", \"{start_date} 09:00:00\", \"2022-10-10 11:29:35\", \"\",usedf=True)[1]\n",
    "df_return = w.wsi(\"000333.SZ,000521.SZ,000533.SZ,000541.SZ,000651.SZ,000921.SZ,001259.SZ,002032.SZ,002035.SZ,002076.SZ,002242.SZ,002290.SZ,002418.SZ,002508.SZ,002543.SZ,002668.SZ,002676.SZ,002677.SZ,002705.SZ,002723.SZ,002959.SZ,003023.SZ,200512.SZ,200521.SZ,200541.SZ,300160.SZ,300217.SZ,300247.SZ,300272.SZ,300403.SZ,300625.SZ,300650.SZ,300824.SZ,300889.SZ,300894.SZ,300911.SZ,600261.SH,600336.SH,600651.SH,600690.SH,600854.SH,600983.SH,603215.SH,603219.SH,603303.SH,603311.SH,603355.SH,603366.SH,603486.SH,603515.SH,603519.SH,603578.SH,603657.SH,603677.SH,603685.SH,603868.SH,605117.SH,605336.SH,605365.SH,605555.SH,688169.SH\", \"pct_chg\", \"2022-06-01 09:00:00\", \"2022-10-10 11:29:35\", \"\",usedf=True)[1]\n",
    "stk_code = list(set(df_return['WINDCODE'].tolist()))\n",
    "\n",
    "df_return_rearrange = pd.DataFrame([])\n",
    "for stk_code_tmp in stk_code:\n",
    "    df_tmp = df_return[df_return['WINDCODE']==stk_code_tmp]['PCTCHANGE']\n",
    "    df_tmp.columns = [stk_code_tmp]\n",
    "    df_return_rearrange[stk_code_tmp] = df_tmp"
   ]
  },
  {
   "cell_type": "code",
   "execution_count": null,
   "metadata": {},
   "outputs": [],
   "source": [
    "df_daily_return = w.wsd(\"603355.SH\", \"pct_chg\", f\"{start_date}\", \"2022-10-10\", \"\",usedf=True)[1]\n",
    "df_daily_return"
   ]
  },
  {
   "cell_type": "code",
   "execution_count": null,
   "metadata": {},
   "outputs": [],
   "source": [
    "df_return_rearrange = df_return_rearrange.dropna(how='any',axis=1)"
   ]
  },
  {
   "cell_type": "code",
   "execution_count": null,
   "metadata": {},
   "outputs": [],
   "source": [
    "import numpy as np\n",
    "np.linalg.norm(df_return_rearrange.corr().values)"
   ]
  },
  {
   "cell_type": "code",
   "execution_count": null,
   "metadata": {},
   "outputs": [],
   "source": [
    "def cal_corr(stk_code,df_return_rearrange):\n",
    "    main_code = '603355.SH'\n",
    "    df_return_rearrange[[main_code,stk_code]]\n",
    "    tmp_index = df_daily.index\n",
    "    df_corr = pd.DataFrame([],columns=['corr'])\n",
    "    corr_mat_list = []\n",
    "    corr_norm_list = []\n",
    "    for tmp_index_day in tmp_index:\n",
    "        tmp_corr = df_return_rearrange[[main_code,stk_code]].loc[str(tmp_index_day).split(' ')[0]].corr().iloc[1,0]\n",
    "        df_corr.loc[tmp_index_day] = tmp_corr\n",
    "        corr_mat = df_return_rearrange.loc[str(tmp_index_day).split(' ')[0]].corr()\n",
    "        corr_mat_list.append(corr_mat)\n",
    "        corr_norm = np.linalg.norm(corr_mat.values)\n",
    "        corr_norm_list.append(corr_norm)\n",
    "    # df_corr.plot(title=stk_code)\n",
    "    # df_daily.plot()\n",
    "    df_total = pd.concat([df_corr,df_daily],axis=1)\n",
    "    df_total['corr norm'] = corr_norm_list\n",
    "    df_total['daily return'] = df_daily_return['PCT_CHG']\n",
    "    fig = go.Figure(data=[\n",
    "        go.Scatter(name='corr norm', x=df_total.index, y=df_total['corr norm']),\n",
    "        go.Scatter(name='daily return', x=df_total.index, y=df_total['daily return'],xaxis='x',yaxis='y2'),\n",
    "    ],\n",
    "    layout=go.Layout(yaxis2=dict(anchor='x', overlaying='y', side='right'))\n",
    "    )\n",
    "    fig.show()\n",
    "    print(len(corr_norm_list))\n",
    "    return corr_mat_list\n",
    "\n",
    "for tmp_stk_code in stk_code[:1]:\n",
    "    corr_mat_list = cal_corr(tmp_stk_code,df_return_rearrange)\n"
   ]
  },
  {
   "cell_type": "code",
   "execution_count": null,
   "metadata": {},
   "outputs": [],
   "source": [
    "# import plotly.graph_objects as go\n",
    " \n",
    "# fig = go.Figure(data=[\n",
    "#     go.Scatter(name='corr', x=df_total.index, y=df_total['corr']),\n",
    "#     go.Scatter(name='CLOSE', x=df_total.index, y=df_total['CLOSE'],xaxis='x',yaxis='y2'),\n",
    "    \n",
    "# ],\n",
    "# layout=go.Layout(yaxis2=dict(anchor='x', overlaying='y', side='right'))\n",
    "# )\n",
    "# fig.show()"
   ]
  },
  {
   "cell_type": "markdown",
   "metadata": {},
   "source": [
    "# 医疗保健行业相关性"
   ]
  },
  {
   "cell_type": "code",
   "execution_count": 1,
   "metadata": {},
   "outputs": [
    {
     "name": "stdout",
     "output_type": "stream",
     "text": [
      "22.9.1.52437\n",
      "Welcome to use Wind Quant API for Python (WindPy)!\n",
      "\n",
      "COPYRIGHT (C) 2021 WIND INFORMATION CO., LTD. ALL RIGHTS RESERVED.\n",
      "IN NO CIRCUMSTANCE SHALL WIND BE RESPONSIBLE FOR ANY DAMAGES OR LOSSES CAUSED BY USING WIND QUANT API FOR Python.\n"
     ]
    }
   ],
   "source": [
    "from WindPy import *\n",
    "\n",
    "#Wind API 使用W账户密码登录\n",
    "w.start() \n",
    "\n",
    "#return True and then can go to next operation.\n",
    "w.isconnected()\n",
    "start_date = '2022-08-01'\n",
    "end_date = '2022-09-30'\n",
    "df_return_day = w.wsd(\"002223.SZ,002432.SZ,002551.SZ,002614.SZ,002950.SZ,300143.SZ,300206.SZ,300246.SZ,300273.SZ,300298.SZ,300314.SZ,300326.SZ,300529.SZ,300562.SZ,300633.SZ,300753.SZ,300760.SZ,300832.SZ,300869.SZ,300942.SZ,300962.SZ,301087.SZ,301234.SZ,301235.SZ,301363.SZ,600055.SH,600568.SH,600587.SH,603579.SH,605186.SH,688029.SH,688050.SH,688114.SH,688139.SH,688212.SH,688271.SH,688273.SH,688277.SH,688310.SH,688314.SH,688351.SH,688358.SH,688393.SH,688468.SH,688580.SH,688613.SH,688617.SH,688677.SH,688793.SH,832278.BJ,872925.BJ\", \n",
    "\"pct_chg\", f\"2022-08-01\", f\"2022-09-30\", \"\",usedf=True)[1]"
   ]
  },
  {
   "cell_type": "code",
   "execution_count": 2,
   "metadata": {},
   "outputs": [],
   "source": [
    "df_return_min = w.wsi(\"002223.SZ,002432.SZ,002551.SZ,002614.SZ,002950.SZ,300143.SZ,300206.SZ,300246.SZ,300273.SZ,300298.SZ,300314.SZ,300326.SZ,300529.SZ,300562.SZ,300633.SZ,300753.SZ,300760.SZ,300832.SZ,300869.SZ,300942.SZ,300962.SZ,301087.SZ,301234.SZ,301235.SZ,301363.SZ,600055.SH,600568.SH,600587.SH,603579.SH,605186.SH,688029.SH,688050.SH,688114.SH,688139.SH,688212.SH,688271.SH,688273.SH,688277.SH,688310.SH,688314.SH,688351.SH,688358.SH,688393.SH,688468.SH,688580.SH,688613.SH,688617.SH,688677.SH,688793.SH,832278.BJ,872925.BJ\", \"pct_chg\", \n",
    "f\"2022-08-01 09:00:00\", f\"2022-09-30 15:00:00\", \"\",usedf=True)[1]"
   ]
  },
  {
   "cell_type": "code",
   "execution_count": 3,
   "metadata": {},
   "outputs": [
    {
     "data": {
      "text/html": [
       "<div>\n",
       "<style scoped>\n",
       "    .dataframe tbody tr th:only-of-type {\n",
       "        vertical-align: middle;\n",
       "    }\n",
       "\n",
       "    .dataframe tbody tr th {\n",
       "        vertical-align: top;\n",
       "    }\n",
       "\n",
       "    .dataframe thead th {\n",
       "        text-align: right;\n",
       "    }\n",
       "</style>\n",
       "<table border=\"1\" class=\"dataframe\">\n",
       "  <thead>\n",
       "    <tr style=\"text-align: right;\">\n",
       "      <th></th>\n",
       "      <th>WINDCODE</th>\n",
       "      <th>PCTCHANGE</th>\n",
       "    </tr>\n",
       "  </thead>\n",
       "  <tbody>\n",
       "    <tr>\n",
       "      <th>2022-08-01 09:30:00</th>\n",
       "      <td>002950.SZ</td>\n",
       "      <td>-0.016643</td>\n",
       "    </tr>\n",
       "    <tr>\n",
       "      <th>2022-08-01 09:31:00</th>\n",
       "      <td>002950.SZ</td>\n",
       "      <td>-0.012509</td>\n",
       "    </tr>\n",
       "    <tr>\n",
       "      <th>2022-08-01 09:32:00</th>\n",
       "      <td>002950.SZ</td>\n",
       "      <td>0.000745</td>\n",
       "    </tr>\n",
       "    <tr>\n",
       "      <th>2022-08-01 09:33:00</th>\n",
       "      <td>002950.SZ</td>\n",
       "      <td>0.003723</td>\n",
       "    </tr>\n",
       "    <tr>\n",
       "      <th>2022-08-01 09:34:00</th>\n",
       "      <td>002950.SZ</td>\n",
       "      <td>-0.003709</td>\n",
       "    </tr>\n",
       "    <tr>\n",
       "      <th>...</th>\n",
       "      <td>...</td>\n",
       "      <td>...</td>\n",
       "    </tr>\n",
       "    <tr>\n",
       "      <th>2022-09-30 14:56:00</th>\n",
       "      <td>832278.BJ</td>\n",
       "      <td>0.000000</td>\n",
       "    </tr>\n",
       "    <tr>\n",
       "      <th>2022-09-30 14:57:00</th>\n",
       "      <td>832278.BJ</td>\n",
       "      <td>0.000000</td>\n",
       "    </tr>\n",
       "    <tr>\n",
       "      <th>2022-09-30 14:58:00</th>\n",
       "      <td>832278.BJ</td>\n",
       "      <td>0.000000</td>\n",
       "    </tr>\n",
       "    <tr>\n",
       "      <th>2022-09-30 14:59:00</th>\n",
       "      <td>832278.BJ</td>\n",
       "      <td>0.000000</td>\n",
       "    </tr>\n",
       "    <tr>\n",
       "      <th>2022-09-30 15:00:00</th>\n",
       "      <td>832278.BJ</td>\n",
       "      <td>0.012000</td>\n",
       "    </tr>\n",
       "  </tbody>\n",
       "</table>\n",
       "<p>72600 rows × 2 columns</p>\n",
       "</div>"
      ],
      "text/plain": [
       "                      WINDCODE  PCTCHANGE\n",
       "2022-08-01 09:30:00  002950.SZ  -0.016643\n",
       "2022-08-01 09:31:00  002950.SZ  -0.012509\n",
       "2022-08-01 09:32:00  002950.SZ   0.000745\n",
       "2022-08-01 09:33:00  002950.SZ   0.003723\n",
       "2022-08-01 09:34:00  002950.SZ  -0.003709\n",
       "...                        ...        ...\n",
       "2022-09-30 14:56:00  832278.BJ   0.000000\n",
       "2022-09-30 14:57:00  832278.BJ   0.000000\n",
       "2022-09-30 14:58:00  832278.BJ   0.000000\n",
       "2022-09-30 14:59:00  832278.BJ   0.000000\n",
       "2022-09-30 15:00:00  832278.BJ   0.012000\n",
       "\n",
       "[72600 rows x 2 columns]"
      ]
     },
     "execution_count": 3,
     "metadata": {},
     "output_type": "execute_result"
    }
   ],
   "source": [
    "df_return_min"
   ]
  },
  {
   "cell_type": "code",
   "execution_count": 4,
   "metadata": {},
   "outputs": [],
   "source": [
    "import pandas as pd\n",
    "stk_code = list(set(df_return_min['WINDCODE'].tolist()))\n",
    "df_return_rearrange = pd.DataFrame([])\n",
    "for stk_code_tmp in stk_code:\n",
    "    df_tmp = df_return_min[df_return_min['WINDCODE']==stk_code_tmp]['PCTCHANGE']\n",
    "    df_tmp.columns = [stk_code_tmp]\n",
    "    df_return_rearrange[stk_code_tmp] = df_tmp\n",
    "   "
   ]
  },
  {
   "cell_type": "code",
   "execution_count": 5,
   "metadata": {},
   "outputs": [
    {
     "data": {
      "text/plain": [
       "2.7123232512511493"
      ]
     },
     "execution_count": 5,
     "metadata": {},
     "output_type": "execute_result"
    }
   ],
   "source": [
    "import numpy as np\n",
    "\n",
    "corr_mat = df_return_rearrange.dropna(how='any',axis=1).loc['2022-08-01'].corr().values \n",
    "np.linalg.norm(corr_mat)"
   ]
  },
  {
   "cell_type": "code",
   "execution_count": 6,
   "metadata": {},
   "outputs": [
    {
     "data": {
      "text/html": [
       "<div>\n",
       "<style scoped>\n",
       "    .dataframe tbody tr th:only-of-type {\n",
       "        vertical-align: middle;\n",
       "    }\n",
       "\n",
       "    .dataframe tbody tr th {\n",
       "        vertical-align: top;\n",
       "    }\n",
       "\n",
       "    .dataframe thead th {\n",
       "        text-align: right;\n",
       "    }\n",
       "</style>\n",
       "<table border=\"1\" class=\"dataframe\">\n",
       "  <thead>\n",
       "    <tr style=\"text-align: right;\">\n",
       "      <th></th>\n",
       "      <th>002223.SZ</th>\n",
       "      <th>002432.SZ</th>\n",
       "      <th>002551.SZ</th>\n",
       "      <th>002614.SZ</th>\n",
       "      <th>002950.SZ</th>\n",
       "      <th>300143.SZ</th>\n",
       "      <th>300206.SZ</th>\n",
       "      <th>300246.SZ</th>\n",
       "      <th>300273.SZ</th>\n",
       "      <th>300298.SZ</th>\n",
       "      <th>...</th>\n",
       "      <th>688358.SH</th>\n",
       "      <th>688393.SH</th>\n",
       "      <th>688468.SH</th>\n",
       "      <th>688580.SH</th>\n",
       "      <th>688613.SH</th>\n",
       "      <th>688617.SH</th>\n",
       "      <th>688677.SH</th>\n",
       "      <th>688793.SH</th>\n",
       "      <th>832278.BJ</th>\n",
       "      <th>872925.BJ</th>\n",
       "    </tr>\n",
       "  </thead>\n",
       "  <tbody>\n",
       "    <tr>\n",
       "      <th>2022-08-01</th>\n",
       "      <td>5.714286</td>\n",
       "      <td>0.192715</td>\n",
       "      <td>-0.950119</td>\n",
       "      <td>0.749064</td>\n",
       "      <td>-1.736614</td>\n",
       "      <td>-3.389831</td>\n",
       "      <td>-0.519211</td>\n",
       "      <td>1.142132</td>\n",
       "      <td>0.492611</td>\n",
       "      <td>0.750000</td>\n",
       "      <td>...</td>\n",
       "      <td>-0.406977</td>\n",
       "      <td>-0.167574</td>\n",
       "      <td>0.538600</td>\n",
       "      <td>-0.298310</td>\n",
       "      <td>1.396348</td>\n",
       "      <td>-0.190467</td>\n",
       "      <td>-2.786765</td>\n",
       "      <td>0.422833</td>\n",
       "      <td>0.395257</td>\n",
       "      <td>-0.124224</td>\n",
       "    </tr>\n",
       "    <tr>\n",
       "      <th>2022-08-02</th>\n",
       "      <td>-2.772903</td>\n",
       "      <td>-6.135795</td>\n",
       "      <td>-3.597122</td>\n",
       "      <td>-0.495663</td>\n",
       "      <td>-6.185567</td>\n",
       "      <td>-4.062789</td>\n",
       "      <td>-5.427975</td>\n",
       "      <td>-5.081556</td>\n",
       "      <td>-7.352941</td>\n",
       "      <td>2.543424</td>\n",
       "      <td>...</td>\n",
       "      <td>-5.399883</td>\n",
       "      <td>-4.364247</td>\n",
       "      <td>-6.160714</td>\n",
       "      <td>-2.509973</td>\n",
       "      <td>-6.250000</td>\n",
       "      <td>-2.616381</td>\n",
       "      <td>-2.812970</td>\n",
       "      <td>-8.421053</td>\n",
       "      <td>-3.346457</td>\n",
       "      <td>-2.611940</td>\n",
       "    </tr>\n",
       "    <tr>\n",
       "      <th>2022-08-03</th>\n",
       "      <td>-1.660650</td>\n",
       "      <td>-2.459016</td>\n",
       "      <td>-0.995025</td>\n",
       "      <td>-2.739726</td>\n",
       "      <td>-0.784929</td>\n",
       "      <td>1.636189</td>\n",
       "      <td>0.551876</td>\n",
       "      <td>0.594845</td>\n",
       "      <td>4.232804</td>\n",
       "      <td>-1.512402</td>\n",
       "      <td>...</td>\n",
       "      <td>-5.399568</td>\n",
       "      <td>-0.394910</td>\n",
       "      <td>0.951475</td>\n",
       "      <td>0.664962</td>\n",
       "      <td>1.318267</td>\n",
       "      <td>2.103960</td>\n",
       "      <td>0.110473</td>\n",
       "      <td>0.298851</td>\n",
       "      <td>0.000000</td>\n",
       "      <td>-0.383142</td>\n",
       "    </tr>\n",
       "    <tr>\n",
       "      <th>2022-08-04</th>\n",
       "      <td>-0.954479</td>\n",
       "      <td>2.521008</td>\n",
       "      <td>2.010050</td>\n",
       "      <td>-0.256082</td>\n",
       "      <td>1.819620</td>\n",
       "      <td>8.428030</td>\n",
       "      <td>0.768386</td>\n",
       "      <td>2.890933</td>\n",
       "      <td>8.121827</td>\n",
       "      <td>-9.490172</td>\n",
       "      <td>...</td>\n",
       "      <td>3.098500</td>\n",
       "      <td>1.233480</td>\n",
       "      <td>1.319510</td>\n",
       "      <td>1.812331</td>\n",
       "      <td>1.747212</td>\n",
       "      <td>-2.171717</td>\n",
       "      <td>-0.960053</td>\n",
       "      <td>1.031400</td>\n",
       "      <td>0.407332</td>\n",
       "      <td>1.153846</td>\n",
       "    </tr>\n",
       "    <tr>\n",
       "      <th>2022-08-05</th>\n",
       "      <td>2.891030</td>\n",
       "      <td>1.475410</td>\n",
       "      <td>1.231527</td>\n",
       "      <td>0.770218</td>\n",
       "      <td>-2.097902</td>\n",
       "      <td>-1.484716</td>\n",
       "      <td>1.089325</td>\n",
       "      <td>1.468710</td>\n",
       "      <td>1.877934</td>\n",
       "      <td>0.950119</td>\n",
       "      <td>...</td>\n",
       "      <td>2.783929</td>\n",
       "      <td>2.001741</td>\n",
       "      <td>1.953488</td>\n",
       "      <td>2.478789</td>\n",
       "      <td>5.407380</td>\n",
       "      <td>2.369644</td>\n",
       "      <td>2.674095</td>\n",
       "      <td>5.784936</td>\n",
       "      <td>0.608519</td>\n",
       "      <td>0.633714</td>\n",
       "    </tr>\n",
       "  </tbody>\n",
       "</table>\n",
       "<p>5 rows × 51 columns</p>\n",
       "</div>"
      ],
      "text/plain": [
       "            002223.SZ  002432.SZ  002551.SZ  002614.SZ  002950.SZ  300143.SZ  \\\n",
       "2022-08-01   5.714286   0.192715  -0.950119   0.749064  -1.736614  -3.389831   \n",
       "2022-08-02  -2.772903  -6.135795  -3.597122  -0.495663  -6.185567  -4.062789   \n",
       "2022-08-03  -1.660650  -2.459016  -0.995025  -2.739726  -0.784929   1.636189   \n",
       "2022-08-04  -0.954479   2.521008   2.010050  -0.256082   1.819620   8.428030   \n",
       "2022-08-05   2.891030   1.475410   1.231527   0.770218  -2.097902  -1.484716   \n",
       "\n",
       "            300206.SZ  300246.SZ  300273.SZ  300298.SZ  ...  688358.SH  \\\n",
       "2022-08-01  -0.519211   1.142132   0.492611   0.750000  ...  -0.406977   \n",
       "2022-08-02  -5.427975  -5.081556  -7.352941   2.543424  ...  -5.399883   \n",
       "2022-08-03   0.551876   0.594845   4.232804  -1.512402  ...  -5.399568   \n",
       "2022-08-04   0.768386   2.890933   8.121827  -9.490172  ...   3.098500   \n",
       "2022-08-05   1.089325   1.468710   1.877934   0.950119  ...   2.783929   \n",
       "\n",
       "            688393.SH  688468.SH  688580.SH  688613.SH  688617.SH  688677.SH  \\\n",
       "2022-08-01  -0.167574   0.538600  -0.298310   1.396348  -0.190467  -2.786765   \n",
       "2022-08-02  -4.364247  -6.160714  -2.509973  -6.250000  -2.616381  -2.812970   \n",
       "2022-08-03  -0.394910   0.951475   0.664962   1.318267   2.103960   0.110473   \n",
       "2022-08-04   1.233480   1.319510   1.812331   1.747212  -2.171717  -0.960053   \n",
       "2022-08-05   2.001741   1.953488   2.478789   5.407380   2.369644   2.674095   \n",
       "\n",
       "            688793.SH  832278.BJ  872925.BJ  \n",
       "2022-08-01   0.422833   0.395257  -0.124224  \n",
       "2022-08-02  -8.421053  -3.346457  -2.611940  \n",
       "2022-08-03   0.298851   0.000000  -0.383142  \n",
       "2022-08-04   1.031400   0.407332   1.153846  \n",
       "2022-08-05   5.784936   0.608519   0.633714  \n",
       "\n",
       "[5 rows x 51 columns]"
      ]
     },
     "execution_count": 6,
     "metadata": {},
     "output_type": "execute_result"
    }
   ],
   "source": [
    "df_return_day.head()"
   ]
  },
  {
   "cell_type": "code",
   "execution_count": 9,
   "metadata": {},
   "outputs": [
    {
     "data": {
      "application/vnd.plotly.v1+json": {
       "config": {
        "plotlyServerURL": "https://plot.ly"
       },
       "data": [
        {
         "name": "corr mat norm",
         "type": "scatter",
         "x": [
          "2022-08-01",
          "2022-08-02",
          "2022-08-03",
          "2022-08-04",
          "2022-08-05",
          "2022-08-08",
          "2022-08-09",
          "2022-08-10",
          "2022-08-11",
          "2022-08-12",
          "2022-08-15",
          "2022-08-16",
          "2022-08-17",
          "2022-08-18",
          "2022-08-19",
          "2022-08-22",
          "2022-08-23",
          "2022-08-24",
          "2022-08-25",
          "2022-08-26",
          "2022-08-29",
          "2022-08-30",
          "2022-08-31",
          "2022-09-01",
          "2022-09-02",
          "2022-09-05",
          "2022-09-06",
          "2022-09-07",
          "2022-09-08",
          "2022-09-09",
          "2022-09-13",
          "2022-09-14",
          "2022-09-15",
          "2022-09-16",
          "2022-09-19",
          "2022-09-20",
          "2022-09-21",
          "2022-09-22",
          "2022-09-23",
          "2022-09-26",
          "2022-09-27",
          "2022-09-28",
          "2022-09-29",
          "2022-09-30"
         ],
         "y": [
          2.7123232512511493,
          2.851664828638758,
          2.821725819841715,
          2.8155405034537204,
          2.5753232768849346,
          2.5804008562959146,
          2.7214832279889607,
          2.6102335343449687,
          2.5716874671374526,
          2.515741213364626,
          2.65505042843816,
          2.5300113195227922,
          2.55633118720176,
          2.5554757757817717,
          2.491525086777935,
          2.5486363919949904,
          2.533451633587363,
          2.5315463721521807,
          2.5123255958041693,
          2.5342727978968584,
          2.9749379191528074,
          2.500767127976948,
          2.5445922620818093,
          2.627385403998595,
          2.6121145024075068,
          2.789229249498868,
          2.528347265038369,
          2.5214081359598026,
          2.5296770228389174,
          2.5225532161072195,
          2.503316518003115,
          2.738944863502906,
          2.570324897556501,
          2.482751836706082,
          2.5019023869036254,
          2.750344822048491,
          2.532289982986297,
          2.5767664423615035,
          2.6391526300879313,
          2.5581208818851016,
          2.549895367701762,
          2.6718225085146883,
          2.7107800375621687,
          2.5331354017795293
         ]
        },
        {
         "name": "002223.SZ return",
         "type": "scatter",
         "x": [
          "2022-08-01",
          "2022-08-02",
          "2022-08-03",
          "2022-08-04",
          "2022-08-05",
          "2022-08-08",
          "2022-08-09",
          "2022-08-10",
          "2022-08-11",
          "2022-08-12",
          "2022-08-15",
          "2022-08-16",
          "2022-08-17",
          "2022-08-18",
          "2022-08-19",
          "2022-08-22",
          "2022-08-23",
          "2022-08-24",
          "2022-08-25",
          "2022-08-26",
          "2022-08-29",
          "2022-08-30",
          "2022-08-31",
          "2022-09-01",
          "2022-09-02",
          "2022-09-05",
          "2022-09-06",
          "2022-09-07",
          "2022-09-08",
          "2022-09-09",
          "2022-09-13",
          "2022-09-14",
          "2022-09-15",
          "2022-09-16",
          "2022-09-19",
          "2022-09-20",
          "2022-09-21",
          "2022-09-22",
          "2022-09-23",
          "2022-09-26",
          "2022-09-27",
          "2022-09-28",
          "2022-09-29",
          "2022-09-30"
         ],
         "y": [
          5.714285714285714,
          -2.7729027729027727,
          -1.6606498194945922,
          -0.9544787077826679,
          2.891030392883626,
          -1.2968299711815685,
          0.4014598540146074,
          -2.035623409669213,
          3.7476808905380286,
          -0.03576537911301034,
          -0.8586762075134177,
          1.0465535907614616,
          -0.9642857142857234,
          -0.10818608005769656,
          1.6606498194945922,
          -1.775568181818189,
          -1.9522776572668075,
          -1.2536873156342252,
          -3.286034353995522,
          3.783783783783782,
          -0.6696428571428521,
          4.41947565543071,
          -2.1520803443328465,
          0.0366568914955927,
          0.6229388054232353,
          4.442825928623451,
          0,
          -1.1506276150627543,
          1.6225749559082854,
          -0.381811870878165,
          -1.3588850174216123,
          -1.0596962204168094,
          -1.7136736879685734,
          -4.213585179803854,
          2.578687902919987,
          -0.3327171903881732,
          -2.448071216617207,
          -1.0646387832699746,
          -2.0753266717909264,
          -1.3736263736263719,
          9.948269001193784,
          1.5200868621064245,
          4.848484848484831,
          -2.040122407344432
         ]
        },
        {
         "name": "002432.SZ return",
         "type": "scatter",
         "x": [
          "2022-08-01",
          "2022-08-02",
          "2022-08-03",
          "2022-08-04",
          "2022-08-05",
          "2022-08-08",
          "2022-08-09",
          "2022-08-10",
          "2022-08-11",
          "2022-08-12",
          "2022-08-15",
          "2022-08-16",
          "2022-08-17",
          "2022-08-18",
          "2022-08-19",
          "2022-08-22",
          "2022-08-23",
          "2022-08-24",
          "2022-08-25",
          "2022-08-26",
          "2022-08-29",
          "2022-08-30",
          "2022-08-31",
          "2022-09-01",
          "2022-09-02",
          "2022-09-05",
          "2022-09-06",
          "2022-09-07",
          "2022-09-08",
          "2022-09-09",
          "2022-09-13",
          "2022-09-14",
          "2022-09-15",
          "2022-09-16",
          "2022-09-19",
          "2022-09-20",
          "2022-09-21",
          "2022-09-22",
          "2022-09-23",
          "2022-09-26",
          "2022-09-27",
          "2022-09-28",
          "2022-09-29",
          "2022-09-30"
         ],
         "y": [
          0.19271535941414827,
          -6.135795345258717,
          -2.4590163934426053,
          2.521008403361326,
          1.4754098360656003,
          0.585621970920838,
          0.32122063842599813,
          -1.3808284970982512,
          1.339285714285709,
          0.10012014417300914,
          -0.760152030406071,
          -0.4837734327756648,
          0.4658699615150937,
          -0.9274193548386983,
          0.5698005698005748,
          -0.48563334682316334,
          2.257015046766987,
          -3.5991250745675205,
          -0.7838283828382734,
          -0.020790020790013537,
          2.4537325847369473,
          8.280901156890597,
          -5.829428303655105,
          7.444267515923561,
          -0.926268988514262,
          -3.908002991772624,
          0.33080365829928865,
          -1.2412723041117228,
          -3.1421838177533328,
          0.8313057583130443,
          -0.6233661773577157,
          -1.8211250505868162,
          -3.05028854080792,
          -3.0824829931972686,
          -2.4128098267163822,
          1.7981568891885684,
          -0.3974387281960719,
          -1.7734426956328844,
          -2.2793951703904374,
          -1.3856812933025406,
          2.2716627634660385,
          3.0455690405312583,
          -2.2444444444444307,
          -1.1820868379177307
         ]
        },
        {
         "name": "002551.SZ return",
         "type": "scatter",
         "x": [
          "2022-08-01",
          "2022-08-02",
          "2022-08-03",
          "2022-08-04",
          "2022-08-05",
          "2022-08-08",
          "2022-08-09",
          "2022-08-10",
          "2022-08-11",
          "2022-08-12",
          "2022-08-15",
          "2022-08-16",
          "2022-08-17",
          "2022-08-18",
          "2022-08-19",
          "2022-08-22",
          "2022-08-23",
          "2022-08-24",
          "2022-08-25",
          "2022-08-26",
          "2022-08-29",
          "2022-08-30",
          "2022-08-31",
          "2022-09-01",
          "2022-09-02",
          "2022-09-05",
          "2022-09-06",
          "2022-09-07",
          "2022-09-08",
          "2022-09-09",
          "2022-09-13",
          "2022-09-14",
          "2022-09-15",
          "2022-09-16",
          "2022-09-19",
          "2022-09-20",
          "2022-09-21",
          "2022-09-22",
          "2022-09-23",
          "2022-09-26",
          "2022-09-27",
          "2022-09-28",
          "2022-09-29",
          "2022-09-30"
         ],
         "y": [
          -0.9501187648456217,
          -3.597122302158268,
          -0.995024875621886,
          2.0100502512562723,
          1.2315270935960643,
          1.216545012165455,
          -1.2019230769230818,
          -0.24330900243309936,
          1.4634146341463559,
          1.2019230769230818,
          -0.2375296912114105,
          0.47619047619047405,
          0.23696682464455884,
          -0.7092198581560353,
          -0.7142857142857213,
          0.9592326139088891,
          0.2375296912113902,
          -1.1848341232227535,
          0.2398081534772274,
          -0.9569377990430783,
          1.449275362318855,
          0.47619047619047405,
          -0.47393364928909737,
          -0.47619047619047405,
          1.1961722488038327,
          2.364066193853417,
          0,
          0,
          -0.9237875288683561,
          1.3986013986013923,
          -0.45977011494252673,
          0.46189376443417807,
          -0.6896551724137803,
          -2.777777777777785,
          0.2380952380952472,
          -0.7125890736342112,
          3.827751196172252,
          -1.6129032258064737,
          -0.9367681498828798,
          -3.0732860520094727,
          10.000000000000009,
          9.977827050997785,
          -5.64516129032259,
          2.991452991453015
         ]
        },
        {
         "name": "002614.SZ return",
         "type": "scatter",
         "x": [
          "2022-08-01",
          "2022-08-02",
          "2022-08-03",
          "2022-08-04",
          "2022-08-05",
          "2022-08-08",
          "2022-08-09",
          "2022-08-10",
          "2022-08-11",
          "2022-08-12",
          "2022-08-15",
          "2022-08-16",
          "2022-08-17",
          "2022-08-18",
          "2022-08-19",
          "2022-08-22",
          "2022-08-23",
          "2022-08-24",
          "2022-08-25",
          "2022-08-26",
          "2022-08-29",
          "2022-08-30",
          "2022-08-31",
          "2022-09-01",
          "2022-09-02",
          "2022-09-05",
          "2022-09-06",
          "2022-09-07",
          "2022-09-08",
          "2022-09-09",
          "2022-09-13",
          "2022-09-14",
          "2022-09-15",
          "2022-09-16",
          "2022-09-19",
          "2022-09-20",
          "2022-09-21",
          "2022-09-22",
          "2022-09-23",
          "2022-09-26",
          "2022-09-27",
          "2022-09-28",
          "2022-09-29",
          "2022-09-30"
         ],
         "y": [
          0.7490636704119868,
          -0.4956629491945661,
          -2.73972602739725,
          -0.25608194622279196,
          0.7702182284980764,
          0,
          -0.8917197452229144,
          -1.028277634961442,
          3.506493506493497,
          -0.5018820577164379,
          -0.37831021437578904,
          0.7594936708860778,
          0.7537688442211075,
          -1.2468827930174593,
          1.0101010101010126,
          0,
          -1.3750000000000033,
          -2.0278833967046768,
          -2.199223803363542,
          -1.4550264550264405,
          0.5369127516778536,
          0.5340453938584793,
          -0.6640106241699884,
          -0.6684491978609642,
          1.0767160161507427,
          -0.5326231691078575,
          0.40160642570281224,
          -0.5333333333333347,
          -1.340482573726545,
          1.3586956521739162,
          -0.1340482573726545,
          -0.671140939597317,
          0.27027027027027095,
          -5.660377358490561,
          -1.1428571428571457,
          -0.14450867052023156,
          1.3024602026049235,
          -1.7142857142857186,
          -2.18023255813952,
          -2.6745913818722404,
          5.038167938931311,
          -0.29069767441860533,
          1.3119533527696825,
          10.07194244604317
         ]
        }
       ],
       "layout": {
        "template": {
         "data": {
          "bar": [
           {
            "error_x": {
             "color": "#2a3f5f"
            },
            "error_y": {
             "color": "#2a3f5f"
            },
            "marker": {
             "line": {
              "color": "#E5ECF6",
              "width": 0.5
             },
             "pattern": {
              "fillmode": "overlay",
              "size": 10,
              "solidity": 0.2
             }
            },
            "type": "bar"
           }
          ],
          "barpolar": [
           {
            "marker": {
             "line": {
              "color": "#E5ECF6",
              "width": 0.5
             },
             "pattern": {
              "fillmode": "overlay",
              "size": 10,
              "solidity": 0.2
             }
            },
            "type": "barpolar"
           }
          ],
          "carpet": [
           {
            "aaxis": {
             "endlinecolor": "#2a3f5f",
             "gridcolor": "white",
             "linecolor": "white",
             "minorgridcolor": "white",
             "startlinecolor": "#2a3f5f"
            },
            "baxis": {
             "endlinecolor": "#2a3f5f",
             "gridcolor": "white",
             "linecolor": "white",
             "minorgridcolor": "white",
             "startlinecolor": "#2a3f5f"
            },
            "type": "carpet"
           }
          ],
          "choropleth": [
           {
            "colorbar": {
             "outlinewidth": 0,
             "ticks": ""
            },
            "type": "choropleth"
           }
          ],
          "contour": [
           {
            "colorbar": {
             "outlinewidth": 0,
             "ticks": ""
            },
            "colorscale": [
             [
              0,
              "#0d0887"
             ],
             [
              0.1111111111111111,
              "#46039f"
             ],
             [
              0.2222222222222222,
              "#7201a8"
             ],
             [
              0.3333333333333333,
              "#9c179e"
             ],
             [
              0.4444444444444444,
              "#bd3786"
             ],
             [
              0.5555555555555556,
              "#d8576b"
             ],
             [
              0.6666666666666666,
              "#ed7953"
             ],
             [
              0.7777777777777778,
              "#fb9f3a"
             ],
             [
              0.8888888888888888,
              "#fdca26"
             ],
             [
              1,
              "#f0f921"
             ]
            ],
            "type": "contour"
           }
          ],
          "contourcarpet": [
           {
            "colorbar": {
             "outlinewidth": 0,
             "ticks": ""
            },
            "type": "contourcarpet"
           }
          ],
          "heatmap": [
           {
            "colorbar": {
             "outlinewidth": 0,
             "ticks": ""
            },
            "colorscale": [
             [
              0,
              "#0d0887"
             ],
             [
              0.1111111111111111,
              "#46039f"
             ],
             [
              0.2222222222222222,
              "#7201a8"
             ],
             [
              0.3333333333333333,
              "#9c179e"
             ],
             [
              0.4444444444444444,
              "#bd3786"
             ],
             [
              0.5555555555555556,
              "#d8576b"
             ],
             [
              0.6666666666666666,
              "#ed7953"
             ],
             [
              0.7777777777777778,
              "#fb9f3a"
             ],
             [
              0.8888888888888888,
              "#fdca26"
             ],
             [
              1,
              "#f0f921"
             ]
            ],
            "type": "heatmap"
           }
          ],
          "heatmapgl": [
           {
            "colorbar": {
             "outlinewidth": 0,
             "ticks": ""
            },
            "colorscale": [
             [
              0,
              "#0d0887"
             ],
             [
              0.1111111111111111,
              "#46039f"
             ],
             [
              0.2222222222222222,
              "#7201a8"
             ],
             [
              0.3333333333333333,
              "#9c179e"
             ],
             [
              0.4444444444444444,
              "#bd3786"
             ],
             [
              0.5555555555555556,
              "#d8576b"
             ],
             [
              0.6666666666666666,
              "#ed7953"
             ],
             [
              0.7777777777777778,
              "#fb9f3a"
             ],
             [
              0.8888888888888888,
              "#fdca26"
             ],
             [
              1,
              "#f0f921"
             ]
            ],
            "type": "heatmapgl"
           }
          ],
          "histogram": [
           {
            "marker": {
             "pattern": {
              "fillmode": "overlay",
              "size": 10,
              "solidity": 0.2
             }
            },
            "type": "histogram"
           }
          ],
          "histogram2d": [
           {
            "colorbar": {
             "outlinewidth": 0,
             "ticks": ""
            },
            "colorscale": [
             [
              0,
              "#0d0887"
             ],
             [
              0.1111111111111111,
              "#46039f"
             ],
             [
              0.2222222222222222,
              "#7201a8"
             ],
             [
              0.3333333333333333,
              "#9c179e"
             ],
             [
              0.4444444444444444,
              "#bd3786"
             ],
             [
              0.5555555555555556,
              "#d8576b"
             ],
             [
              0.6666666666666666,
              "#ed7953"
             ],
             [
              0.7777777777777778,
              "#fb9f3a"
             ],
             [
              0.8888888888888888,
              "#fdca26"
             ],
             [
              1,
              "#f0f921"
             ]
            ],
            "type": "histogram2d"
           }
          ],
          "histogram2dcontour": [
           {
            "colorbar": {
             "outlinewidth": 0,
             "ticks": ""
            },
            "colorscale": [
             [
              0,
              "#0d0887"
             ],
             [
              0.1111111111111111,
              "#46039f"
             ],
             [
              0.2222222222222222,
              "#7201a8"
             ],
             [
              0.3333333333333333,
              "#9c179e"
             ],
             [
              0.4444444444444444,
              "#bd3786"
             ],
             [
              0.5555555555555556,
              "#d8576b"
             ],
             [
              0.6666666666666666,
              "#ed7953"
             ],
             [
              0.7777777777777778,
              "#fb9f3a"
             ],
             [
              0.8888888888888888,
              "#fdca26"
             ],
             [
              1,
              "#f0f921"
             ]
            ],
            "type": "histogram2dcontour"
           }
          ],
          "mesh3d": [
           {
            "colorbar": {
             "outlinewidth": 0,
             "ticks": ""
            },
            "type": "mesh3d"
           }
          ],
          "parcoords": [
           {
            "line": {
             "colorbar": {
              "outlinewidth": 0,
              "ticks": ""
             }
            },
            "type": "parcoords"
           }
          ],
          "pie": [
           {
            "automargin": true,
            "type": "pie"
           }
          ],
          "scatter": [
           {
            "fillpattern": {
             "fillmode": "overlay",
             "size": 10,
             "solidity": 0.2
            },
            "type": "scatter"
           }
          ],
          "scatter3d": [
           {
            "line": {
             "colorbar": {
              "outlinewidth": 0,
              "ticks": ""
             }
            },
            "marker": {
             "colorbar": {
              "outlinewidth": 0,
              "ticks": ""
             }
            },
            "type": "scatter3d"
           }
          ],
          "scattercarpet": [
           {
            "marker": {
             "colorbar": {
              "outlinewidth": 0,
              "ticks": ""
             }
            },
            "type": "scattercarpet"
           }
          ],
          "scattergeo": [
           {
            "marker": {
             "colorbar": {
              "outlinewidth": 0,
              "ticks": ""
             }
            },
            "type": "scattergeo"
           }
          ],
          "scattergl": [
           {
            "marker": {
             "colorbar": {
              "outlinewidth": 0,
              "ticks": ""
             }
            },
            "type": "scattergl"
           }
          ],
          "scattermapbox": [
           {
            "marker": {
             "colorbar": {
              "outlinewidth": 0,
              "ticks": ""
             }
            },
            "type": "scattermapbox"
           }
          ],
          "scatterpolar": [
           {
            "marker": {
             "colorbar": {
              "outlinewidth": 0,
              "ticks": ""
             }
            },
            "type": "scatterpolar"
           }
          ],
          "scatterpolargl": [
           {
            "marker": {
             "colorbar": {
              "outlinewidth": 0,
              "ticks": ""
             }
            },
            "type": "scatterpolargl"
           }
          ],
          "scatterternary": [
           {
            "marker": {
             "colorbar": {
              "outlinewidth": 0,
              "ticks": ""
             }
            },
            "type": "scatterternary"
           }
          ],
          "surface": [
           {
            "colorbar": {
             "outlinewidth": 0,
             "ticks": ""
            },
            "colorscale": [
             [
              0,
              "#0d0887"
             ],
             [
              0.1111111111111111,
              "#46039f"
             ],
             [
              0.2222222222222222,
              "#7201a8"
             ],
             [
              0.3333333333333333,
              "#9c179e"
             ],
             [
              0.4444444444444444,
              "#bd3786"
             ],
             [
              0.5555555555555556,
              "#d8576b"
             ],
             [
              0.6666666666666666,
              "#ed7953"
             ],
             [
              0.7777777777777778,
              "#fb9f3a"
             ],
             [
              0.8888888888888888,
              "#fdca26"
             ],
             [
              1,
              "#f0f921"
             ]
            ],
            "type": "surface"
           }
          ],
          "table": [
           {
            "cells": {
             "fill": {
              "color": "#EBF0F8"
             },
             "line": {
              "color": "white"
             }
            },
            "header": {
             "fill": {
              "color": "#C8D4E3"
             },
             "line": {
              "color": "white"
             }
            },
            "type": "table"
           }
          ]
         },
         "layout": {
          "annotationdefaults": {
           "arrowcolor": "#2a3f5f",
           "arrowhead": 0,
           "arrowwidth": 1
          },
          "autotypenumbers": "strict",
          "coloraxis": {
           "colorbar": {
            "outlinewidth": 0,
            "ticks": ""
           }
          },
          "colorscale": {
           "diverging": [
            [
             0,
             "#8e0152"
            ],
            [
             0.1,
             "#c51b7d"
            ],
            [
             0.2,
             "#de77ae"
            ],
            [
             0.3,
             "#f1b6da"
            ],
            [
             0.4,
             "#fde0ef"
            ],
            [
             0.5,
             "#f7f7f7"
            ],
            [
             0.6,
             "#e6f5d0"
            ],
            [
             0.7,
             "#b8e186"
            ],
            [
             0.8,
             "#7fbc41"
            ],
            [
             0.9,
             "#4d9221"
            ],
            [
             1,
             "#276419"
            ]
           ],
           "sequential": [
            [
             0,
             "#0d0887"
            ],
            [
             0.1111111111111111,
             "#46039f"
            ],
            [
             0.2222222222222222,
             "#7201a8"
            ],
            [
             0.3333333333333333,
             "#9c179e"
            ],
            [
             0.4444444444444444,
             "#bd3786"
            ],
            [
             0.5555555555555556,
             "#d8576b"
            ],
            [
             0.6666666666666666,
             "#ed7953"
            ],
            [
             0.7777777777777778,
             "#fb9f3a"
            ],
            [
             0.8888888888888888,
             "#fdca26"
            ],
            [
             1,
             "#f0f921"
            ]
           ],
           "sequentialminus": [
            [
             0,
             "#0d0887"
            ],
            [
             0.1111111111111111,
             "#46039f"
            ],
            [
             0.2222222222222222,
             "#7201a8"
            ],
            [
             0.3333333333333333,
             "#9c179e"
            ],
            [
             0.4444444444444444,
             "#bd3786"
            ],
            [
             0.5555555555555556,
             "#d8576b"
            ],
            [
             0.6666666666666666,
             "#ed7953"
            ],
            [
             0.7777777777777778,
             "#fb9f3a"
            ],
            [
             0.8888888888888888,
             "#fdca26"
            ],
            [
             1,
             "#f0f921"
            ]
           ]
          },
          "colorway": [
           "#636efa",
           "#EF553B",
           "#00cc96",
           "#ab63fa",
           "#FFA15A",
           "#19d3f3",
           "#FF6692",
           "#B6E880",
           "#FF97FF",
           "#FECB52"
          ],
          "font": {
           "color": "#2a3f5f"
          },
          "geo": {
           "bgcolor": "white",
           "lakecolor": "white",
           "landcolor": "#E5ECF6",
           "showlakes": true,
           "showland": true,
           "subunitcolor": "white"
          },
          "hoverlabel": {
           "align": "left"
          },
          "hovermode": "closest",
          "mapbox": {
           "style": "light"
          },
          "paper_bgcolor": "white",
          "plot_bgcolor": "#E5ECF6",
          "polar": {
           "angularaxis": {
            "gridcolor": "white",
            "linecolor": "white",
            "ticks": ""
           },
           "bgcolor": "#E5ECF6",
           "radialaxis": {
            "gridcolor": "white",
            "linecolor": "white",
            "ticks": ""
           }
          },
          "scene": {
           "xaxis": {
            "backgroundcolor": "#E5ECF6",
            "gridcolor": "white",
            "gridwidth": 2,
            "linecolor": "white",
            "showbackground": true,
            "ticks": "",
            "zerolinecolor": "white"
           },
           "yaxis": {
            "backgroundcolor": "#E5ECF6",
            "gridcolor": "white",
            "gridwidth": 2,
            "linecolor": "white",
            "showbackground": true,
            "ticks": "",
            "zerolinecolor": "white"
           },
           "zaxis": {
            "backgroundcolor": "#E5ECF6",
            "gridcolor": "white",
            "gridwidth": 2,
            "linecolor": "white",
            "showbackground": true,
            "ticks": "",
            "zerolinecolor": "white"
           }
          },
          "shapedefaults": {
           "line": {
            "color": "#2a3f5f"
           }
          },
          "ternary": {
           "aaxis": {
            "gridcolor": "white",
            "linecolor": "white",
            "ticks": ""
           },
           "baxis": {
            "gridcolor": "white",
            "linecolor": "white",
            "ticks": ""
           },
           "bgcolor": "#E5ECF6",
           "caxis": {
            "gridcolor": "white",
            "linecolor": "white",
            "ticks": ""
           }
          },
          "title": {
           "x": 0.05
          },
          "xaxis": {
           "automargin": true,
           "gridcolor": "white",
           "linecolor": "white",
           "ticks": "",
           "title": {
            "standoff": 15
           },
           "zerolinecolor": "white",
           "zerolinewidth": 2
          },
          "yaxis": {
           "automargin": true,
           "gridcolor": "white",
           "linecolor": "white",
           "ticks": "",
           "title": {
            "standoff": 15
           },
           "zerolinecolor": "white",
           "zerolinewidth": 2
          }
         }
        }
       }
      }
     },
     "metadata": {},
     "output_type": "display_data"
    },
    {
     "name": "stdout",
     "output_type": "stream",
     "text": [
      "Connect to Sky fail. errCode:60\n",
      "Connect to Sky fail. errCode:51\n",
      "Connect to Sky fail. errCode:51\n",
      "Connect to Sky fail. errCode:51\n",
      "Connect to Sky fail. errCode:51\n",
      "Connect to Sky fail. errCode:51\n",
      "Connect to Sky fail. errCode:51\n",
      "Connect to Sky fail. errCode:51\n",
      "Connect to Sky fail. errCode:51\n",
      "Connect to Sky fail. errCode:51\n",
      "Connect to Sky fail. errCode:51\n",
      "Connect to Sky fail. errCode:51\n",
      "Connect to Sky fail. errCode:51\n",
      "Connect to Sky fail. errCode:51\n",
      "Connect to Sky fail. errCode:51\n",
      "Connect to Sky fail. errCode:51\n",
      "Connect to Sky fail. errCode:51\n",
      "Connect to Sky fail. errCode:51\n",
      "Connect to Sky fail. errCode:51\n",
      "Connect to Sky fail. errCode:51\n",
      "Connect to Sky fail. errCode:51\n",
      "Connect to Sky fail. errCode:51\n",
      "Connect to Sky fail. errCode:51\n",
      "Connect to Sky fail. errCode:51\n",
      "Connect to Sky fail. errCode:51\n",
      "Connect to Sky fail. errCode:51\n",
      "Connect to Sky fail. errCode:51\n",
      "Connect to Sky fail. errCode:51\n",
      "Connect to Sky fail. errCode:51\n",
      "Connect to Sky fail. errCode:51\n",
      "Connect to Sky fail. errCode:51\n",
      "Connect to Sky fail. errCode:51\n",
      "Connect to Sky fail. errCode:51\n",
      "Connect to Sky fail. errCode:51\n",
      "Connect to Sky fail. errCode:51\n",
      "Connect to Sky fail. errCode:51\n",
      "Connect to Sky fail. errCode:51\n",
      "Connect to Sky fail. errCode:51\n",
      "Connect to Sky fail. errCode:51\n",
      "Connect to Sky fail. errCode:51\n",
      "Connect to Sky fail. errCode:51\n",
      "Connect to Sky fail. errCode:51\n",
      "Connect to Sky fail. errCode:51\n",
      "Connect to Sky fail. errCode:51\n",
      "Connect to Sky fail. errCode:51\n",
      "Connect to Sky fail. errCode:51\n",
      "Connect to Sky fail. errCode:51\n",
      "Connect to Sky fail. errCode:51\n",
      "Connect to Sky fail. errCode:51\n",
      "Connect to Sky fail. errCode:51\n",
      "Connect to Sky fail. errCode:51\n",
      "Connect to Sky fail. errCode:51\n",
      "Connect to Sky fail. errCode:51\n",
      "Connect to Sky fail. errCode:51\n",
      "Connect to Sky fail. errCode:51\n",
      "Connect to Sky fail. errCode:51\n",
      "Connect to Sky fail. errCode:51\n",
      "Connect to Sky fail. errCode:51\n",
      "Connect to Sky fail. errCode:51\n",
      "Connect to Sky fail. errCode:51\n",
      "Connect to Sky fail. errCode:51\n",
      "Connect to Sky fail. errCode:51\n",
      "Connect to Sky fail. errCode:51\n",
      "Connect to Sky fail. errCode:51\n",
      "Connect to Sky fail. errCode:51\n",
      "Connect to Sky fail. errCode:51\n",
      "Connect to Sky fail. errCode:51\n",
      "Connect to Sky fail. errCode:51\n",
      "Connect to Sky fail. errCode:51\n",
      "Connect to Sky fail. errCode:51\n",
      "Connect to Sky fail. errCode:51\n",
      "Connect to Sky fail. errCode:51\n",
      "Connect to Sky fail. errCode:51\n",
      "Connect to Sky fail. errCode:51\n",
      "Connect to Sky fail. errCode:51\n",
      "Connect to Sky fail. errCode:51\n",
      "Connect to Sky fail. errCode:51\n",
      "Connect to Sky fail. errCode:51\n",
      "Connect to Sky fail. errCode:51\n",
      "Connect to Sky fail. errCode:51\n",
      "Connect to Sky fail. errCode:51\n",
      "Connect to Sky fail. errCode:51\n",
      "Connect to Sky fail. errCode:51\n",
      "Connect to Sky fail. errCode:51\n",
      "Connect to Sky fail. errCode:51\n",
      "Connect to Sky fail. errCode:51\n",
      "Connect to Sky fail. errCode:51\n",
      "Connect to Sky fail. errCode:51\n",
      "Connect to Sky fail. errCode:51\n",
      "Connect to Sky fail. errCode:51\n",
      "Connect to Sky fail. errCode:51\n",
      "Connect to Sky fail. errCode:51\n",
      "Connect to Sky fail. errCode:51\n",
      "Connect to Sky fail. errCode:51\n",
      "Connect to Sky fail. errCode:51\n",
      "Connect to Sky fail. errCode:51\n",
      "Connect to Sky fail. errCode:51\n",
      "Connect to Sky fail. errCode:51\n",
      "Connect to Sky fail. errCode:51\n",
      "Connect to Sky fail. errCode:51\n",
      "Connect to Sky fail. errCode:51\n",
      "Connect to Sky fail. errCode:51\n",
      "Connect to Sky fail. errCode:51\n",
      "Connect to Sky fail. errCode:51\n",
      "Connect to Sky fail. errCode:51\n",
      "Connect to Sky fail. errCode:51\n",
      "Connect to Sky fail. errCode:51\n",
      "Connect to Sky fail. errCode:51\n",
      "Connect to Sky fail. errCode:51\n",
      "Connect to Sky fail. errCode:51\n",
      "Connect to Sky fail. errCode:51\n",
      "Connect to Sky fail. errCode:51\n",
      "Connect to Sky fail. errCode:51\n"
     ]
    }
   ],
   "source": [
    "trade_days = df_return_rearrange.reset_index()['index'].apply(lambda x:str(x).split(' ')[0]).unique().tolist()\n",
    "\n",
    "corr_mat_norm_list = []\n",
    "for trade_day in trade_days:\n",
    "    corr_mat = df_return_rearrange.dropna(how='any',axis=1).loc[trade_day].corr().values \n",
    "    corr_mat_norm = np.linalg.norm(corr_mat)\n",
    "    corr_mat_norm_list.append(corr_mat_norm)\n",
    "import plotly.graph_objects as go\n",
    " \n",
    "fig = go.Figure(data=[\n",
    "    go.Scatter(name='corr mat norm', x=trade_days, y=corr_mat_norm_list),\n",
    "    go.Scatter(name='002223.SZ return', x=trade_days, y=df_return_day['002223.SZ']),\n",
    "    go.Scatter(name='002432.SZ return', x=trade_days, y=df_return_day['002432.SZ']),\n",
    "    go.Scatter(name='002551.SZ return', x=trade_days, y=df_return_day['002551.SZ']),\n",
    "    go.Scatter(name='002614.SZ return', x=trade_days, y=df_return_day['002614.SZ']),\n",
    "    \n",
    "],\n",
    ")\n",
    "\n",
    "fig.show()    "
   ]
  },
  {
   "cell_type": "code",
   "execution_count": 8,
   "metadata": {},
   "outputs": [
    {
     "data": {
      "text/plain": [
       "44"
      ]
     },
     "execution_count": 8,
     "metadata": {},
     "output_type": "execute_result"
    }
   ],
   "source": [
    "len(corr_mat_norm_list)"
   ]
  }
 ],
 "metadata": {
  "kernelspec": {
   "display_name": "Python 3.9.7 ('base')",
   "language": "python",
   "name": "python3"
  },
  "language_info": {
   "codemirror_mode": {
    "name": "ipython",
    "version": 3
   },
   "file_extension": ".py",
   "mimetype": "text/x-python",
   "name": "python",
   "nbconvert_exporter": "python",
   "pygments_lexer": "ipython3",
   "version": "3.9.7"
  },
  "orig_nbformat": 4,
  "vscode": {
   "interpreter": {
    "hash": "4b7a3c99c09164ed3315a85b9be868456d78d186d21965e8a7155bab558fd18f"
   }
  }
 },
 "nbformat": 4,
 "nbformat_minor": 2
}
