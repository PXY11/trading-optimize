{
 "cells": [
  {
   "cell_type": "code",
   "execution_count": 3,
   "metadata": {},
   "outputs": [
    {
     "name": "stdout",
     "output_type": "stream",
     "text": [
      "[2022-10-26T15:32:06.054659+0800] [93162] [INFO] [session.py] [63] PROD Env Init Completed!\n",
      "[2022-10-26T15:32:06.270345+0800] [93162] [DEBUG] [tianyan_provider.py] [130] retrieve total 769 rows of data\n"
     ]
    }
   ],
   "source": [
    "from cmschina_tianyan.session import CmsSession\n",
    "import pandas as pd\n",
    "dataset = CmsSession.init(appId=\"cb632213cf764a019b32f8cc9d2040b7\", appSecret=\"b23700b9fbf0090709c7b72ac0fdcb390cd19cc663bcf1c7a07c12b8c32bf377\")\n",
    "\n",
    "stk_code = '603355.SH'\n",
    "\n",
    "sql = f''' \n",
    "SELECT * FROM wind_admin.ASHAREANNINF \n",
    "where S_INFO_WINDCODE='{stk_code}' \n",
    "order by ANN_DT desc\n",
    "'''\n",
    "\n",
    "df_ann = dataset.get_data(sql)\n",
    "df_ann.to_excel('./ann/603355.SH.xlsx')"
   ]
  }
 ],
 "metadata": {
  "kernelspec": {
   "display_name": "Python 3.9.7 ('base')",
   "language": "python",
   "name": "python3"
  },
  "language_info": {
   "codemirror_mode": {
    "name": "ipython",
    "version": 3
   },
   "file_extension": ".py",
   "mimetype": "text/x-python",
   "name": "python",
   "nbconvert_exporter": "python",
   "pygments_lexer": "ipython3",
   "version": "3.9.7"
  },
  "orig_nbformat": 4,
  "vscode": {
   "interpreter": {
    "hash": "4b7a3c99c09164ed3315a85b9be868456d78d186d21965e8a7155bab558fd18f"
   }
  }
 },
 "nbformat": 4,
 "nbformat_minor": 2
}
