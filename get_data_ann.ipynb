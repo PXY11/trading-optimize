{
 "cells": [
  {
   "cell_type": "code",
   "execution_count": 1,
   "metadata": {},
   "outputs": [
    {
     "name": "stdout",
     "output_type": "stream",
     "text": [
      "[2022-10-28T14:24:18.714445+0800] [3095] [INFO] [session.py] [63] PROD Env Init Completed!\n",
      "[2022-10-28T14:24:21.646633+0800] [3095] [DEBUG] [tianyan_provider.py] [130] retrieve total 1271 rows of data\n",
      "[2022-10-28T14:24:23.703154+0800] [3095] [DEBUG] [tianyan_provider.py] [130] retrieve total 880 rows of data\n",
      "[2022-10-28T14:24:25.463506+0800] [3095] [DEBUG] [tianyan_provider.py] [130] retrieve total 2350 rows of data\n",
      "[2022-10-28T14:24:28.805908+0800] [3095] [DEBUG] [tianyan_provider.py] [130] retrieve total 2106 rows of data\n",
      "[2022-10-28T14:24:31.686140+0800] [3095] [DEBUG] [tianyan_provider.py] [130] retrieve total 1555 rows of data\n",
      "[2022-10-28T14:24:33.362752+0800] [3095] [DEBUG] [tianyan_provider.py] [130] retrieve total 1568 rows of data\n",
      "[2022-10-28T14:24:35.067524+0800] [3095] [DEBUG] [tianyan_provider.py] [130] retrieve total 735 rows of data\n",
      "[2022-10-28T14:24:37.319955+0800] [3095] [DEBUG] [tianyan_provider.py] [130] retrieve total 1311 rows of data\n",
      "[2022-10-28T14:24:39.162124+0800] [3095] [DEBUG] [tianyan_provider.py] [130] retrieve total 817 rows of data\n",
      "[2022-10-28T14:24:41.728213+0800] [3095] [DEBUG] [tianyan_provider.py] [130] retrieve total 1488 rows of data\n",
      "[2022-10-28T14:24:43.314698+0800] [3095] [DEBUG] [tianyan_provider.py] [130] retrieve total 1600 rows of data\n",
      "[2022-10-28T14:24:46.333179+0800] [3095] [DEBUG] [tianyan_provider.py] [130] retrieve total 2075 rows of data\n",
      "[2022-10-28T14:24:49.094541+0800] [3095] [DEBUG] [tianyan_provider.py] [130] retrieve total 1342 rows of data\n",
      "[2022-10-28T14:24:51.821032+0800] [3095] [DEBUG] [tianyan_provider.py] [130] retrieve total 1666 rows of data\n",
      "[2022-10-28T14:24:53.505915+0800] [3095] [DEBUG] [tianyan_provider.py] [130] retrieve total 636 rows of data\n",
      "[2022-10-28T14:24:54.889111+0800] [3095] [DEBUG] [tianyan_provider.py] [130] retrieve total 1829 rows of data\n"
     ]
    }
   ],
   "source": [
    "from cmschina_tianyan.session import CmsSession\n",
    "import pandas as pd\n",
    "dataset = CmsSession.init(appId=\"cb632213cf764a019b32f8cc9d2040b7\", appSecret=\"b23700b9fbf0090709c7b72ac0fdcb390cd19cc663bcf1c7a07c12b8c32bf377\")\n",
    "\n",
    "stk_code_list = ['300587.SZ',\n",
    "'603185.SH',\n",
    "'600674.SH',\n",
    "'002203.SZ',\n",
    "'601127.SH',\n",
    "'002597.SZ',\n",
    "'603348.SH',\n",
    "'300487.SZ',\n",
    "'603876.SH',\n",
    "'601677.SH',\n",
    "'300655.SZ',\n",
    "'002078.SZ',\n",
    "'002738.SZ', #2022-10-14新增4个对子\n",
    "'002812.SZ',\n",
    "'603596.SH',\n",
    "'300332.SZ',]\n",
    "\n",
    "stk_code = '603355.SH'\n",
    "for stk_code in stk_code_list:\n",
    "    sql = f''' \n",
    "    SELECT * FROM wind_admin.ASHAREANNINF \n",
    "    where S_INFO_WINDCODE='{stk_code}' \n",
    "    order by ANN_DT desc\n",
    "    '''\n",
    "\n",
    "    df_ann = dataset.get_data(sql)\n",
    "    df_ann.to_excel(f'./ann/{stk_code}.xlsx')"
   ]
  }
 ],
 "metadata": {
  "kernelspec": {
   "display_name": "Python 3.9.7 ('base')",
   "language": "python",
   "name": "python3"
  },
  "language_info": {
   "codemirror_mode": {
    "name": "ipython",
    "version": 3
   },
   "file_extension": ".py",
   "mimetype": "text/x-python",
   "name": "python",
   "nbconvert_exporter": "python",
   "pygments_lexer": "ipython3",
   "version": "3.9.7"
  },
  "orig_nbformat": 4,
  "vscode": {
   "interpreter": {
    "hash": "4b7a3c99c09164ed3315a85b9be868456d78d186d21965e8a7155bab558fd18f"
   }
  }
 },
 "nbformat": 4,
 "nbformat_minor": 2
}
